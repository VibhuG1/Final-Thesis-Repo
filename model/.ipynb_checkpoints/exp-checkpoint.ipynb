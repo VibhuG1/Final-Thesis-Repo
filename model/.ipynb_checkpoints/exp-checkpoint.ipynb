{
 "cells": [
  {
   "cell_type": "code",
   "execution_count": 2,
   "id": "be0c62f1-cc28-49c6-93d2-8011afa12df7",
   "metadata": {},
   "outputs": [
    {
     "data": {
      "text/plain": [
       "119"
      ]
     },
     "execution_count": 2,
     "metadata": {},
     "output_type": "execute_result"
    }
   ],
   "source": [
    "len('Table 3.1 Dataset Description..........................................................................................')"
   ]
  },
  {
   "cell_type": "code",
   "execution_count": 9,
   "id": "f75e9b65-9e3e-44e0-9bc9-97569bff1ef7",
   "metadata": {},
   "outputs": [
    {
     "name": "stdout",
     "output_type": "stream",
     "text": [
      "Figure 4.1 Flow Correlation Matrix.....................................................................................\n",
      "Figure 4.4.1 Energy Consumption distribution...........................................................................\n",
      "Figure 4.4.2 Volatility Analysis: 90-rolling percentiles...............................................................\n",
      "Figure 4.4.3 Heteroscedasticity analysis...............................................................................\n",
      "Figure 4.4.4 Seasonal Analysis: Moving Averages........................................................................\n",
      "Figure 4.4.5 Daily Energy Consumption..................................................................................\n",
      "Figure 4.4.6 Energy Consumption by Appliances..........................................................................\n",
      "Figure 4.4.7 Energy Consumption by Rooms...............................................................................\n",
      "Figure 4.4.8 Seasonality Analysis......................................................................................\n",
      "Figure 4.4.9 Temperature Analysis......................................................................................\n",
      "Figure 4.4.10 Humidity Analysis........................................................................................\n",
      "Figure 4.4.11 Visibility Analysis......................................................................................\n",
      "Figure 4.4.12 Pressure Analysis........................................................................................\n",
      "Figure 4.4.13 Wind Speed Analysis......................................................................................\n",
      "Figure 4.4.14 Wind bearing Analysis....................................................................................\n",
      "Figure 4.4.15 Precipitation intensity Analysis.........................................................................\n",
      "Figure 4.4.16 Cloud cover Analysis.....................................................................................\n",
      "Figure 4.4.17 Seasonal Decomposition of Daily Data (Period = 7 Days)...................................................\n",
      "Figure 4.4.18 Seasonal Decomposition of Daily Data (Period = 30 Days)..................................................\n",
      "Figure 4.4.19 ACF plot.................................................................................................\n",
      "Figure 4.4.20 PACF plot................................................................................................\n",
      "Figure 4.5.1 Log transformed total house usage.........................................................................\n",
      "Figure 5.2.1 SARIMA Model – Actual vs Forecasted.......................................................................\n",
      "Figure 5.2.2 RFR Model – Actual vs Forecasted..........................................................................\n",
      "Figure 5.2.3 Hybrid Model – Actual vs Forecasted.......................................................................\n"
     ]
    }
   ],
   "source": [
    "my_list= ['Figure 3.1 Flow Chart of Proposed Model','Figure 4.1 Flow Correlation Matrix', 'Figure 4.4.1 Energy Consumption distribution', 'Figure 4.4.2 Volatility Analysis: 90-rolling percentiles', 'Figure 4.4.3 Heteroscedasticity analysis', 'Figure 4.4.4 Seasonal Analysis: Moving Averages', 'Figure 4.4.5 Daily Energy Consumption', 'Figure 4.4.6 Energy Consumption by Appliances', 'Figure 4.4.7 Energy Consumption by Rooms', 'Figure 4.4.8 Seasonality Analysis', 'Figure 4.4.9 Temperature Analysis', 'Figure 4.4.10 Humidity Analysis', 'Figure 4.4.11 Visibility Analysis', 'Figure 4.4.12 Pressure Analysis', 'Figure 4.4.13 Wind Speed Analysis', 'Figure 4.4.14 Wind bearing Analysis', 'Figure 4.4.15 Precipitation intensity Analysis', 'Figure 4.4.16 Cloud cover Analysis', 'Figure 4.4.17 Seasonal Decomposition of Daily Data (Period = 7 Days)', 'Figure 4.4.18 Seasonal Decomposition of Daily Data (Period = 30 Days)', 'Figure 4.4.19 ACF plot', 'Figure 4.4.20 PACF plot', 'Figure 4.5.1 Log transformed total house usage',\n",
    "         'Figure 5.2.1 SARIMA Model – Actual vs Forecasted','Figure 5.2.2 RFR Model – Actual vs Forecasted','Figure 5.2.3 Hybrid Model – Actual vs Forecasted']\n",
    "max_length = 119\n",
    "for ele in my_list:\n",
    "    dots_count = max_length - len(ele)\n",
    "    dots = '.' * dots_count\n",
    "    print(ele + dots)"
   ]
  },
  {
   "cell_type": "code",
   "execution_count": 1,
   "id": "e7eedb9e-cfd7-4a31-ba8e-8e4286d231cc",
   "metadata": {},
   "outputs": [],
   "source": [
    "from datetime import datetime, timedelta, timezone\n",
    "import matplotlib.pyplot as plt\n",
    "import seaborn as sns\n",
    "import numpy as np\n",
    "import pandas as pd\n",
    "import time\n",
    "\n",
    "import pmdarima as pm\n",
    "from pmdarima.arima import auto_arima\n",
    "from statsmodels.tsa.arima.model import ARIMA\n",
    "\n",
    "import statsmodels.tsa.api as smt\n",
    "import statsmodels.api as sm\n",
    "import statsmodels.tsa.vector_ar.vecm as vecm\n",
    "\n",
    "from sklearn.metrics import mean_squared_error, mean_absolute_percentage_error,mean_absolute_error,r2_score\n",
    "from sklearn.model_selection import TimeSeriesSplit, GridSearchCV\n",
    "import itertools\n",
    "from pylab import rcParams\n",
    "import warnings\n",
    "rcParams['figure.figsize'] = 18, 8\n",
    "pd.options.mode.chained_assignment = None\n",
    "warnings.simplefilter(action='ignore', category=FutureWarning)\n",
    "\n",
    "import traceback"
   ]
  },
  {
   "cell_type": "code",
   "execution_count": 2,
   "id": "fce8eeb7-6740-4f1e-ae29-59b8ec3583b3",
   "metadata": {},
   "outputs": [],
   "source": [
    "def calculate_r_squared_from_correlation(y_true, y_pred):\n",
    "    # Calculate the correlation coefficient\n",
    "    correlation = np.corrcoef(y_true, y_pred)[0, 1]\n",
    "\n",
    "    # Calculate R-squared using the correlation\n",
    "    r_squared = correlation ** 2\n",
    "\n",
    "    return r_squared"
   ]
  },
  {
   "cell_type": "code",
   "execution_count": 3,
   "id": "635847d6-c03a-4286-bfa9-009ace576a84",
   "metadata": {},
   "outputs": [],
   "source": [
    "def evaluate_sarima_model(train, test, train_predictions, test_predictions,start_index=1):\n",
    "    \"\"\"\n",
    "    Evaluate a SARIMA model by plotting actual vs. forecasted values and calculating evaluation metrics.\n",
    "\n",
    "    Args:\n",
    "    train (pd.Series): The actual training dataset.\n",
    "    test (pd.Series): The actual testing dataset.\n",
    "    train_predictions (pd.Series): Predictions for the training dataset.\n",
    "    test_predictions (pd.Series): Predictions for the testing dataset.\n",
    "\n",
    "    Returns:\n",
    "    pd.DataFrame: A DataFrame containing evaluation metrics.\n",
    "    \"\"\"\n",
    "    train= train[start_index:]\n",
    "    train_predictions= train_predictions[start_index:]\n",
    "    \n",
    "    # Plot actual vs. forecasted values for both training and testing datasets\n",
    "    plt.figure(figsize=(17, 8))\n",
    "    plt.plot(train.index, train, label='Actual (Train)')\n",
    "    plt.plot(train.index, train_predictions, label='Forecasted (Train)')\n",
    "    plt.plot(test.index, test, label='Actual (Test)')\n",
    "    plt.plot(test.index, test_predictions, label='Forecasted (Test)')\n",
    "    plt.legend()\n",
    "    plt.title('SARIMA Model - Actual vs. Forecasted')\n",
    "    plt.xlabel('Date')\n",
    "    plt.ylabel('Energy Consumption')\n",
    "    plt.show()\n",
    "\n",
    "    # Calculate evaluation metrics for both training and testing datasets\n",
    "    train_mae = mean_absolute_error(train, train_predictions)\n",
    "    test_mae = mean_absolute_error(test, test_predictions)\n",
    "\n",
    "    train_mape = np.mean(np.abs((train - train_predictions) / train)) * 100\n",
    "    test_mape = np.mean(np.abs((test - test_predictions) / test)) * 100\n",
    "\n",
    "    train_mase = train_mae / (np.mean(np.abs(np.diff(train))) + np.finfo(float).eps)\n",
    "    test_mase = test_mae / (np.mean(np.abs(np.diff(test))) + np.finfo(float).eps)\n",
    "\n",
    "    train_r2 = calculate_r_squared_from_correlation(train, train_predictions)\n",
    "    test_r2 = calculate_r_squared_from_correlation(test, test_predictions)\n",
    "\n",
    "    train_rmse = np.sqrt(mean_squared_error(train, train_predictions))\n",
    "    test_rmse = np.sqrt(mean_squared_error(test, test_predictions))\n",
    "\n",
    "    # Create a DataFrame to display the metrics\n",
    "    metrics_df = pd.DataFrame({\n",
    "        'Dataset': ['Train', 'Test'],\n",
    "        'MAE': [train_mae, test_mae],\n",
    "        'MAPE (%)': [train_mape, test_mape],\n",
    "        'MASE': [train_mase, test_mase],\n",
    "        'R-squared': [train_r2, test_r2],\n",
    "        'RMSE': [train_rmse, test_rmse]\n",
    "    })\n",
    "\n",
    "    return metrics_df"
   ]
  },
  {
   "cell_type": "code",
   "execution_count": 4,
   "id": "07a8c494-aa2f-4326-8ff8-9c1062ebf5a5",
   "metadata": {},
   "outputs": [],
   "source": [
    "df= pd.read_csv('/Users/vibhu_goel/Documents/Thesis/data/arima_data.csv',usecols= ['total_house_usage_log','date'])\n",
    "df['date']= pd.to_datetime(df['date'])"
   ]
  },
  {
   "cell_type": "code",
   "execution_count": 5,
   "id": "b6d6d5cc-4756-48bb-bd79-b9cdc1cffb2f",
   "metadata": {},
   "outputs": [
    {
     "data": {
      "text/html": [
       "<div>\n",
       "<style scoped>\n",
       "    .dataframe tbody tr th:only-of-type {\n",
       "        vertical-align: middle;\n",
       "    }\n",
       "\n",
       "    .dataframe tbody tr th {\n",
       "        vertical-align: top;\n",
       "    }\n",
       "\n",
       "    .dataframe thead th {\n",
       "        text-align: right;\n",
       "    }\n",
       "</style>\n",
       "<table border=\"1\" class=\"dataframe\">\n",
       "  <thead>\n",
       "    <tr style=\"text-align: right;\">\n",
       "      <th></th>\n",
       "      <th>total_house_usage_log</th>\n",
       "    </tr>\n",
       "    <tr>\n",
       "      <th>date</th>\n",
       "      <th></th>\n",
       "    </tr>\n",
       "  </thead>\n",
       "  <tbody>\n",
       "    <tr>\n",
       "      <th>2016-01-01</th>\n",
       "      <td>7.150878</td>\n",
       "    </tr>\n",
       "    <tr>\n",
       "      <th>2016-01-02</th>\n",
       "      <td>7.207855</td>\n",
       "    </tr>\n",
       "  </tbody>\n",
       "</table>\n",
       "</div>"
      ],
      "text/plain": [
       "            total_house_usage_log\n",
       "date                             \n",
       "2016-01-01               7.150878\n",
       "2016-01-02               7.207855"
      ]
     },
     "execution_count": 5,
     "metadata": {},
     "output_type": "execute_result"
    }
   ],
   "source": [
    "df.set_index('date',inplace=True)\n",
    "df.head(2)"
   ]
  },
  {
   "cell_type": "code",
   "execution_count": 19,
   "id": "ee5ff1e1-4124-430d-991f-c4b54d38d2a9",
   "metadata": {
    "scrolled": true
   },
   "outputs": [
    {
     "name": "stdout",
     "output_type": "stream",
     "text": [
      "(7,)\n"
     ]
    },
    {
     "name": "stderr",
     "output_type": "stream",
     "text": [
      "/Users/vibhu_goel/miniforge3/envs/thesis/lib/python3.9/site-packages/statsmodels/tsa/base/tsa_model.py:473: ValueWarning: No frequency information was provided, so inferred frequency D will be used.\n",
      "  self._init_dates(dates, freq)\n",
      "/Users/vibhu_goel/miniforge3/envs/thesis/lib/python3.9/site-packages/statsmodels/tsa/base/tsa_model.py:473: ValueWarning: No frequency information was provided, so inferred frequency D will be used.\n",
      "  self._init_dates(dates, freq)\n",
      "/Users/vibhu_goel/miniforge3/envs/thesis/lib/python3.9/site-packages/statsmodels/tsa/statespace/sarimax.py:966: UserWarning: Non-stationary starting autoregressive parameters found. Using zeros as starting parameters.\n",
      "  warn('Non-stationary starting autoregressive parameters'\n",
      "/Users/vibhu_goel/miniforge3/envs/thesis/lib/python3.9/site-packages/statsmodels/tsa/statespace/sarimax.py:978: UserWarning: Non-invertible starting MA parameters found. Using zeros as starting parameters.\n",
      "  warn('Non-invertible starting MA parameters found.'\n"
     ]
    },
    {
     "name": "stdout",
     "output_type": "stream",
     "text": [
      "------------------------XXX-------------------- 0\n"
     ]
    },
    {
     "name": "stderr",
     "output_type": "stream",
     "text": [
      "/Users/vibhu_goel/miniforge3/envs/thesis/lib/python3.9/site-packages/statsmodels/tsa/base/tsa_model.py:473: ValueWarning: No frequency information was provided, so inferred frequency D will be used.\n",
      "  self._init_dates(dates, freq)\n",
      "/Users/vibhu_goel/miniforge3/envs/thesis/lib/python3.9/site-packages/statsmodels/tsa/base/tsa_model.py:473: ValueWarning: No frequency information was provided, so inferred frequency D will be used.\n",
      "  self._init_dates(dates, freq)\n",
      "/Users/vibhu_goel/miniforge3/envs/thesis/lib/python3.9/site-packages/statsmodels/tsa/statespace/sarimax.py:966: UserWarning: Non-stationary starting autoregressive parameters found. Using zeros as starting parameters.\n",
      "  warn('Non-stationary starting autoregressive parameters'\n",
      "/Users/vibhu_goel/miniforge3/envs/thesis/lib/python3.9/site-packages/statsmodels/tsa/statespace/sarimax.py:978: UserWarning: Non-invertible starting MA parameters found. Using zeros as starting parameters.\n",
      "  warn('Non-invertible starting MA parameters found.'\n"
     ]
    },
    {
     "name": "stdout",
     "output_type": "stream",
     "text": [
      "------------------------XXX-------------------- 1\n"
     ]
    },
    {
     "name": "stderr",
     "output_type": "stream",
     "text": [
      "/Users/vibhu_goel/miniforge3/envs/thesis/lib/python3.9/site-packages/statsmodels/tsa/base/tsa_model.py:473: ValueWarning: No frequency information was provided, so inferred frequency D will be used.\n",
      "  self._init_dates(dates, freq)\n",
      "/Users/vibhu_goel/miniforge3/envs/thesis/lib/python3.9/site-packages/statsmodels/tsa/base/tsa_model.py:473: ValueWarning: No frequency information was provided, so inferred frequency D will be used.\n",
      "  self._init_dates(dates, freq)\n",
      "/Users/vibhu_goel/miniforge3/envs/thesis/lib/python3.9/site-packages/statsmodels/tsa/statespace/sarimax.py:966: UserWarning: Non-stationary starting autoregressive parameters found. Using zeros as starting parameters.\n",
      "  warn('Non-stationary starting autoregressive parameters'\n",
      "/Users/vibhu_goel/miniforge3/envs/thesis/lib/python3.9/site-packages/statsmodels/tsa/statespace/sarimax.py:978: UserWarning: Non-invertible starting MA parameters found. Using zeros as starting parameters.\n",
      "  warn('Non-invertible starting MA parameters found.'\n"
     ]
    },
    {
     "name": "stdout",
     "output_type": "stream",
     "text": [
      "------------------------XXX-------------------- 2\n"
     ]
    },
    {
     "name": "stderr",
     "output_type": "stream",
     "text": [
      "/Users/vibhu_goel/miniforge3/envs/thesis/lib/python3.9/site-packages/statsmodels/tsa/base/tsa_model.py:473: ValueWarning: No frequency information was provided, so inferred frequency D will be used.\n",
      "  self._init_dates(dates, freq)\n",
      "/Users/vibhu_goel/miniforge3/envs/thesis/lib/python3.9/site-packages/statsmodels/tsa/base/tsa_model.py:473: ValueWarning: No frequency information was provided, so inferred frequency D will be used.\n",
      "  self._init_dates(dates, freq)\n",
      "/Users/vibhu_goel/miniforge3/envs/thesis/lib/python3.9/site-packages/statsmodels/tsa/statespace/sarimax.py:966: UserWarning: Non-stationary starting autoregressive parameters found. Using zeros as starting parameters.\n",
      "  warn('Non-stationary starting autoregressive parameters'\n",
      "/Users/vibhu_goel/miniforge3/envs/thesis/lib/python3.9/site-packages/statsmodels/tsa/statespace/sarimax.py:978: UserWarning: Non-invertible starting MA parameters found. Using zeros as starting parameters.\n",
      "  warn('Non-invertible starting MA parameters found.'\n"
     ]
    },
    {
     "name": "stdout",
     "output_type": "stream",
     "text": [
      "------------------------XXX-------------------- 3\n"
     ]
    },
    {
     "name": "stderr",
     "output_type": "stream",
     "text": [
      "/Users/vibhu_goel/miniforge3/envs/thesis/lib/python3.9/site-packages/statsmodels/tsa/base/tsa_model.py:473: ValueWarning: No frequency information was provided, so inferred frequency D will be used.\n",
      "  self._init_dates(dates, freq)\n",
      "/Users/vibhu_goel/miniforge3/envs/thesis/lib/python3.9/site-packages/statsmodels/tsa/base/tsa_model.py:473: ValueWarning: No frequency information was provided, so inferred frequency D will be used.\n",
      "  self._init_dates(dates, freq)\n",
      "/Users/vibhu_goel/miniforge3/envs/thesis/lib/python3.9/site-packages/statsmodels/tsa/statespace/sarimax.py:966: UserWarning: Non-stationary starting autoregressive parameters found. Using zeros as starting parameters.\n",
      "  warn('Non-stationary starting autoregressive parameters'\n",
      "/Users/vibhu_goel/miniforge3/envs/thesis/lib/python3.9/site-packages/statsmodels/tsa/statespace/sarimax.py:978: UserWarning: Non-invertible starting MA parameters found. Using zeros as starting parameters.\n",
      "  warn('Non-invertible starting MA parameters found.'\n"
     ]
    },
    {
     "name": "stdout",
     "output_type": "stream",
     "text": [
      "------------------------XXX-------------------- 4\n"
     ]
    },
    {
     "name": "stderr",
     "output_type": "stream",
     "text": [
      "/Users/vibhu_goel/miniforge3/envs/thesis/lib/python3.9/site-packages/statsmodels/tsa/base/tsa_model.py:473: ValueWarning: No frequency information was provided, so inferred frequency D will be used.\n",
      "  self._init_dates(dates, freq)\n",
      "/Users/vibhu_goel/miniforge3/envs/thesis/lib/python3.9/site-packages/statsmodels/tsa/base/tsa_model.py:473: ValueWarning: No frequency information was provided, so inferred frequency D will be used.\n",
      "  self._init_dates(dates, freq)\n",
      "/Users/vibhu_goel/miniforge3/envs/thesis/lib/python3.9/site-packages/statsmodels/tsa/statespace/sarimax.py:966: UserWarning: Non-stationary starting autoregressive parameters found. Using zeros as starting parameters.\n",
      "  warn('Non-stationary starting autoregressive parameters'\n",
      "/Users/vibhu_goel/miniforge3/envs/thesis/lib/python3.9/site-packages/statsmodels/tsa/statespace/sarimax.py:978: UserWarning: Non-invertible starting MA parameters found. Using zeros as starting parameters.\n",
      "  warn('Non-invertible starting MA parameters found.'\n"
     ]
    },
    {
     "name": "stdout",
     "output_type": "stream",
     "text": [
      "------------------------XXX-------------------- 5\n"
     ]
    },
    {
     "name": "stderr",
     "output_type": "stream",
     "text": [
      "/Users/vibhu_goel/miniforge3/envs/thesis/lib/python3.9/site-packages/statsmodels/tsa/base/tsa_model.py:473: ValueWarning: No frequency information was provided, so inferred frequency D will be used.\n",
      "  self._init_dates(dates, freq)\n",
      "/Users/vibhu_goel/miniforge3/envs/thesis/lib/python3.9/site-packages/statsmodels/tsa/base/tsa_model.py:473: ValueWarning: No frequency information was provided, so inferred frequency D will be used.\n",
      "  self._init_dates(dates, freq)\n",
      "/Users/vibhu_goel/miniforge3/envs/thesis/lib/python3.9/site-packages/statsmodels/tsa/statespace/sarimax.py:966: UserWarning: Non-stationary starting autoregressive parameters found. Using zeros as starting parameters.\n",
      "  warn('Non-stationary starting autoregressive parameters'\n",
      "/Users/vibhu_goel/miniforge3/envs/thesis/lib/python3.9/site-packages/statsmodels/tsa/statespace/sarimax.py:978: UserWarning: Non-invertible starting MA parameters found. Using zeros as starting parameters.\n",
      "  warn('Non-invertible starting MA parameters found.'\n"
     ]
    },
    {
     "name": "stdout",
     "output_type": "stream",
     "text": [
      "------------------------XXX-------------------- 6\n"
     ]
    },
    {
     "name": "stderr",
     "output_type": "stream",
     "text": [
      "/Users/vibhu_goel/miniforge3/envs/thesis/lib/python3.9/site-packages/statsmodels/tsa/base/tsa_model.py:473: ValueWarning: No frequency information was provided, so inferred frequency D will be used.\n",
      "  self._init_dates(dates, freq)\n",
      "/Users/vibhu_goel/miniforge3/envs/thesis/lib/python3.9/site-packages/statsmodels/tsa/base/tsa_model.py:473: ValueWarning: No frequency information was provided, so inferred frequency D will be used.\n",
      "  self._init_dates(dates, freq)\n",
      "/Users/vibhu_goel/miniforge3/envs/thesis/lib/python3.9/site-packages/statsmodels/tsa/statespace/sarimax.py:966: UserWarning: Non-stationary starting autoregressive parameters found. Using zeros as starting parameters.\n",
      "  warn('Non-stationary starting autoregressive parameters'\n",
      "/Users/vibhu_goel/miniforge3/envs/thesis/lib/python3.9/site-packages/statsmodels/tsa/statespace/sarimax.py:978: UserWarning: Non-invertible starting MA parameters found. Using zeros as starting parameters.\n",
      "  warn('Non-invertible starting MA parameters found.'\n"
     ]
    },
    {
     "name": "stdout",
     "output_type": "stream",
     "text": [
      "------------------------XXX-------------------- 7\n"
     ]
    },
    {
     "name": "stderr",
     "output_type": "stream",
     "text": [
      "/Users/vibhu_goel/miniforge3/envs/thesis/lib/python3.9/site-packages/statsmodels/tsa/base/tsa_model.py:473: ValueWarning: No frequency information was provided, so inferred frequency D will be used.\n",
      "  self._init_dates(dates, freq)\n",
      "/Users/vibhu_goel/miniforge3/envs/thesis/lib/python3.9/site-packages/statsmodels/tsa/base/tsa_model.py:473: ValueWarning: No frequency information was provided, so inferred frequency D will be used.\n",
      "  self._init_dates(dates, freq)\n",
      "/Users/vibhu_goel/miniforge3/envs/thesis/lib/python3.9/site-packages/statsmodels/tsa/statespace/sarimax.py:966: UserWarning: Non-stationary starting autoregressive parameters found. Using zeros as starting parameters.\n",
      "  warn('Non-stationary starting autoregressive parameters'\n",
      "/Users/vibhu_goel/miniforge3/envs/thesis/lib/python3.9/site-packages/statsmodels/tsa/statespace/sarimax.py:978: UserWarning: Non-invertible starting MA parameters found. Using zeros as starting parameters.\n",
      "  warn('Non-invertible starting MA parameters found.'\n"
     ]
    },
    {
     "name": "stdout",
     "output_type": "stream",
     "text": [
      "------------------------XXX-------------------- 8\n"
     ]
    },
    {
     "name": "stderr",
     "output_type": "stream",
     "text": [
      "/Users/vibhu_goel/miniforge3/envs/thesis/lib/python3.9/site-packages/statsmodels/tsa/base/tsa_model.py:473: ValueWarning: No frequency information was provided, so inferred frequency D will be used.\n",
      "  self._init_dates(dates, freq)\n",
      "/Users/vibhu_goel/miniforge3/envs/thesis/lib/python3.9/site-packages/statsmodels/tsa/base/tsa_model.py:473: ValueWarning: No frequency information was provided, so inferred frequency D will be used.\n",
      "  self._init_dates(dates, freq)\n",
      "/Users/vibhu_goel/miniforge3/envs/thesis/lib/python3.9/site-packages/statsmodels/tsa/statespace/sarimax.py:966: UserWarning: Non-stationary starting autoregressive parameters found. Using zeros as starting parameters.\n",
      "  warn('Non-stationary starting autoregressive parameters'\n",
      "/Users/vibhu_goel/miniforge3/envs/thesis/lib/python3.9/site-packages/statsmodels/tsa/statespace/sarimax.py:978: UserWarning: Non-invertible starting MA parameters found. Using zeros as starting parameters.\n",
      "  warn('Non-invertible starting MA parameters found.'\n"
     ]
    },
    {
     "name": "stdout",
     "output_type": "stream",
     "text": [
      "------------------------XXX-------------------- 9\n"
     ]
    },
    {
     "name": "stderr",
     "output_type": "stream",
     "text": [
      "/Users/vibhu_goel/miniforge3/envs/thesis/lib/python3.9/site-packages/statsmodels/tsa/base/tsa_model.py:473: ValueWarning: No frequency information was provided, so inferred frequency D will be used.\n",
      "  self._init_dates(dates, freq)\n",
      "/Users/vibhu_goel/miniforge3/envs/thesis/lib/python3.9/site-packages/statsmodels/tsa/base/tsa_model.py:473: ValueWarning: No frequency information was provided, so inferred frequency D will be used.\n",
      "  self._init_dates(dates, freq)\n",
      "/Users/vibhu_goel/miniforge3/envs/thesis/lib/python3.9/site-packages/statsmodels/tsa/statespace/sarimax.py:966: UserWarning: Non-stationary starting autoregressive parameters found. Using zeros as starting parameters.\n",
      "  warn('Non-stationary starting autoregressive parameters'\n",
      "/Users/vibhu_goel/miniforge3/envs/thesis/lib/python3.9/site-packages/statsmodels/tsa/statespace/sarimax.py:978: UserWarning: Non-invertible starting MA parameters found. Using zeros as starting parameters.\n",
      "  warn('Non-invertible starting MA parameters found.'\n"
     ]
    },
    {
     "name": "stdout",
     "output_type": "stream",
     "text": [
      "------------------------XXX-------------------- 10\n"
     ]
    },
    {
     "name": "stderr",
     "output_type": "stream",
     "text": [
      "/Users/vibhu_goel/miniforge3/envs/thesis/lib/python3.9/site-packages/statsmodels/tsa/base/tsa_model.py:473: ValueWarning: No frequency information was provided, so inferred frequency D will be used.\n",
      "  self._init_dates(dates, freq)\n",
      "/Users/vibhu_goel/miniforge3/envs/thesis/lib/python3.9/site-packages/statsmodels/tsa/base/tsa_model.py:473: ValueWarning: No frequency information was provided, so inferred frequency D will be used.\n",
      "  self._init_dates(dates, freq)\n",
      "/Users/vibhu_goel/miniforge3/envs/thesis/lib/python3.9/site-packages/statsmodels/tsa/statespace/sarimax.py:966: UserWarning: Non-stationary starting autoregressive parameters found. Using zeros as starting parameters.\n",
      "  warn('Non-stationary starting autoregressive parameters'\n",
      "/Users/vibhu_goel/miniforge3/envs/thesis/lib/python3.9/site-packages/statsmodels/tsa/statespace/sarimax.py:978: UserWarning: Non-invertible starting MA parameters found. Using zeros as starting parameters.\n",
      "  warn('Non-invertible starting MA parameters found.'\n"
     ]
    },
    {
     "name": "stdout",
     "output_type": "stream",
     "text": [
      "------------------------XXX-------------------- 11\n"
     ]
    },
    {
     "name": "stderr",
     "output_type": "stream",
     "text": [
      "/Users/vibhu_goel/miniforge3/envs/thesis/lib/python3.9/site-packages/statsmodels/tsa/base/tsa_model.py:473: ValueWarning: No frequency information was provided, so inferred frequency D will be used.\n",
      "  self._init_dates(dates, freq)\n",
      "/Users/vibhu_goel/miniforge3/envs/thesis/lib/python3.9/site-packages/statsmodels/tsa/base/tsa_model.py:473: ValueWarning: No frequency information was provided, so inferred frequency D will be used.\n",
      "  self._init_dates(dates, freq)\n",
      "/Users/vibhu_goel/miniforge3/envs/thesis/lib/python3.9/site-packages/statsmodels/tsa/statespace/sarimax.py:966: UserWarning: Non-stationary starting autoregressive parameters found. Using zeros as starting parameters.\n",
      "  warn('Non-stationary starting autoregressive parameters'\n",
      "/Users/vibhu_goel/miniforge3/envs/thesis/lib/python3.9/site-packages/statsmodels/tsa/statespace/sarimax.py:978: UserWarning: Non-invertible starting MA parameters found. Using zeros as starting parameters.\n",
      "  warn('Non-invertible starting MA parameters found.'\n"
     ]
    },
    {
     "name": "stdout",
     "output_type": "stream",
     "text": [
      "------------------------XXX-------------------- 12\n"
     ]
    },
    {
     "name": "stderr",
     "output_type": "stream",
     "text": [
      "/Users/vibhu_goel/miniforge3/envs/thesis/lib/python3.9/site-packages/statsmodels/tsa/base/tsa_model.py:473: ValueWarning: No frequency information was provided, so inferred frequency D will be used.\n",
      "  self._init_dates(dates, freq)\n",
      "/Users/vibhu_goel/miniforge3/envs/thesis/lib/python3.9/site-packages/statsmodels/tsa/base/tsa_model.py:473: ValueWarning: No frequency information was provided, so inferred frequency D will be used.\n",
      "  self._init_dates(dates, freq)\n",
      "/Users/vibhu_goel/miniforge3/envs/thesis/lib/python3.9/site-packages/statsmodels/tsa/statespace/sarimax.py:966: UserWarning: Non-stationary starting autoregressive parameters found. Using zeros as starting parameters.\n",
      "  warn('Non-stationary starting autoregressive parameters'\n",
      "/Users/vibhu_goel/miniforge3/envs/thesis/lib/python3.9/site-packages/statsmodels/tsa/statespace/sarimax.py:978: UserWarning: Non-invertible starting MA parameters found. Using zeros as starting parameters.\n",
      "  warn('Non-invertible starting MA parameters found.'\n"
     ]
    },
    {
     "name": "stdout",
     "output_type": "stream",
     "text": [
      "------------------------XXX-------------------- 13\n"
     ]
    },
    {
     "name": "stderr",
     "output_type": "stream",
     "text": [
      "/Users/vibhu_goel/miniforge3/envs/thesis/lib/python3.9/site-packages/statsmodels/tsa/base/tsa_model.py:473: ValueWarning: No frequency information was provided, so inferred frequency D will be used.\n",
      "  self._init_dates(dates, freq)\n",
      "/Users/vibhu_goel/miniforge3/envs/thesis/lib/python3.9/site-packages/statsmodels/tsa/base/tsa_model.py:473: ValueWarning: No frequency information was provided, so inferred frequency D will be used.\n",
      "  self._init_dates(dates, freq)\n",
      "/Users/vibhu_goel/miniforge3/envs/thesis/lib/python3.9/site-packages/statsmodels/tsa/statespace/sarimax.py:966: UserWarning: Non-stationary starting autoregressive parameters found. Using zeros as starting parameters.\n",
      "  warn('Non-stationary starting autoregressive parameters'\n",
      "/Users/vibhu_goel/miniforge3/envs/thesis/lib/python3.9/site-packages/statsmodels/tsa/statespace/sarimax.py:978: UserWarning: Non-invertible starting MA parameters found. Using zeros as starting parameters.\n",
      "  warn('Non-invertible starting MA parameters found.'\n"
     ]
    },
    {
     "name": "stdout",
     "output_type": "stream",
     "text": [
      "------------------------XXX-------------------- 14\n"
     ]
    },
    {
     "name": "stderr",
     "output_type": "stream",
     "text": [
      "/Users/vibhu_goel/miniforge3/envs/thesis/lib/python3.9/site-packages/statsmodels/tsa/base/tsa_model.py:473: ValueWarning: No frequency information was provided, so inferred frequency D will be used.\n",
      "  self._init_dates(dates, freq)\n",
      "/Users/vibhu_goel/miniforge3/envs/thesis/lib/python3.9/site-packages/statsmodels/tsa/base/tsa_model.py:473: ValueWarning: No frequency information was provided, so inferred frequency D will be used.\n",
      "  self._init_dates(dates, freq)\n",
      "/Users/vibhu_goel/miniforge3/envs/thesis/lib/python3.9/site-packages/statsmodels/tsa/statespace/sarimax.py:966: UserWarning: Non-stationary starting autoregressive parameters found. Using zeros as starting parameters.\n",
      "  warn('Non-stationary starting autoregressive parameters'\n",
      "/Users/vibhu_goel/miniforge3/envs/thesis/lib/python3.9/site-packages/statsmodels/tsa/statespace/sarimax.py:978: UserWarning: Non-invertible starting MA parameters found. Using zeros as starting parameters.\n",
      "  warn('Non-invertible starting MA parameters found.'\n"
     ]
    },
    {
     "name": "stdout",
     "output_type": "stream",
     "text": [
      "------------------------XXX-------------------- 15\n"
     ]
    },
    {
     "name": "stderr",
     "output_type": "stream",
     "text": [
      "/Users/vibhu_goel/miniforge3/envs/thesis/lib/python3.9/site-packages/statsmodels/tsa/base/tsa_model.py:473: ValueWarning: No frequency information was provided, so inferred frequency D will be used.\n",
      "  self._init_dates(dates, freq)\n",
      "/Users/vibhu_goel/miniforge3/envs/thesis/lib/python3.9/site-packages/statsmodels/tsa/base/tsa_model.py:473: ValueWarning: No frequency information was provided, so inferred frequency D will be used.\n",
      "  self._init_dates(dates, freq)\n",
      "/Users/vibhu_goel/miniforge3/envs/thesis/lib/python3.9/site-packages/statsmodels/tsa/statespace/sarimax.py:966: UserWarning: Non-stationary starting autoregressive parameters found. Using zeros as starting parameters.\n",
      "  warn('Non-stationary starting autoregressive parameters'\n",
      "/Users/vibhu_goel/miniforge3/envs/thesis/lib/python3.9/site-packages/statsmodels/tsa/statespace/sarimax.py:978: UserWarning: Non-invertible starting MA parameters found. Using zeros as starting parameters.\n",
      "  warn('Non-invertible starting MA parameters found.'\n"
     ]
    },
    {
     "name": "stdout",
     "output_type": "stream",
     "text": [
      "------------------------XXX-------------------- 16\n"
     ]
    },
    {
     "name": "stderr",
     "output_type": "stream",
     "text": [
      "/Users/vibhu_goel/miniforge3/envs/thesis/lib/python3.9/site-packages/statsmodels/tsa/base/tsa_model.py:473: ValueWarning: No frequency information was provided, so inferred frequency D will be used.\n",
      "  self._init_dates(dates, freq)\n",
      "/Users/vibhu_goel/miniforge3/envs/thesis/lib/python3.9/site-packages/statsmodels/tsa/base/tsa_model.py:473: ValueWarning: No frequency information was provided, so inferred frequency D will be used.\n",
      "  self._init_dates(dates, freq)\n",
      "/Users/vibhu_goel/miniforge3/envs/thesis/lib/python3.9/site-packages/statsmodels/tsa/statespace/sarimax.py:966: UserWarning: Non-stationary starting autoregressive parameters found. Using zeros as starting parameters.\n",
      "  warn('Non-stationary starting autoregressive parameters'\n",
      "/Users/vibhu_goel/miniforge3/envs/thesis/lib/python3.9/site-packages/statsmodels/tsa/statespace/sarimax.py:978: UserWarning: Non-invertible starting MA parameters found. Using zeros as starting parameters.\n",
      "  warn('Non-invertible starting MA parameters found.'\n"
     ]
    },
    {
     "name": "stdout",
     "output_type": "stream",
     "text": [
      "------------------------XXX-------------------- 17\n"
     ]
    },
    {
     "name": "stderr",
     "output_type": "stream",
     "text": [
      "/Users/vibhu_goel/miniforge3/envs/thesis/lib/python3.9/site-packages/statsmodels/tsa/base/tsa_model.py:473: ValueWarning: No frequency information was provided, so inferred frequency D will be used.\n",
      "  self._init_dates(dates, freq)\n",
      "/Users/vibhu_goel/miniforge3/envs/thesis/lib/python3.9/site-packages/statsmodels/tsa/base/tsa_model.py:473: ValueWarning: No frequency information was provided, so inferred frequency D will be used.\n",
      "  self._init_dates(dates, freq)\n",
      "/Users/vibhu_goel/miniforge3/envs/thesis/lib/python3.9/site-packages/statsmodels/tsa/statespace/sarimax.py:966: UserWarning: Non-stationary starting autoregressive parameters found. Using zeros as starting parameters.\n",
      "  warn('Non-stationary starting autoregressive parameters'\n",
      "/Users/vibhu_goel/miniforge3/envs/thesis/lib/python3.9/site-packages/statsmodels/tsa/statespace/sarimax.py:978: UserWarning: Non-invertible starting MA parameters found. Using zeros as starting parameters.\n",
      "  warn('Non-invertible starting MA parameters found.'\n"
     ]
    },
    {
     "name": "stdout",
     "output_type": "stream",
     "text": [
      "------------------------XXX-------------------- 18\n"
     ]
    },
    {
     "name": "stderr",
     "output_type": "stream",
     "text": [
      "/Users/vibhu_goel/miniforge3/envs/thesis/lib/python3.9/site-packages/statsmodels/tsa/base/tsa_model.py:473: ValueWarning: No frequency information was provided, so inferred frequency D will be used.\n",
      "  self._init_dates(dates, freq)\n",
      "/Users/vibhu_goel/miniforge3/envs/thesis/lib/python3.9/site-packages/statsmodels/tsa/base/tsa_model.py:473: ValueWarning: No frequency information was provided, so inferred frequency D will be used.\n",
      "  self._init_dates(dates, freq)\n",
      "/Users/vibhu_goel/miniforge3/envs/thesis/lib/python3.9/site-packages/statsmodels/tsa/statespace/sarimax.py:966: UserWarning: Non-stationary starting autoregressive parameters found. Using zeros as starting parameters.\n",
      "  warn('Non-stationary starting autoregressive parameters'\n",
      "/Users/vibhu_goel/miniforge3/envs/thesis/lib/python3.9/site-packages/statsmodels/tsa/statespace/sarimax.py:978: UserWarning: Non-invertible starting MA parameters found. Using zeros as starting parameters.\n",
      "  warn('Non-invertible starting MA parameters found.'\n"
     ]
    },
    {
     "name": "stdout",
     "output_type": "stream",
     "text": [
      "------------------------XXX-------------------- 19\n"
     ]
    },
    {
     "name": "stderr",
     "output_type": "stream",
     "text": [
      "/Users/vibhu_goel/miniforge3/envs/thesis/lib/python3.9/site-packages/statsmodels/tsa/base/tsa_model.py:473: ValueWarning: No frequency information was provided, so inferred frequency D will be used.\n",
      "  self._init_dates(dates, freq)\n",
      "/Users/vibhu_goel/miniforge3/envs/thesis/lib/python3.9/site-packages/statsmodels/tsa/base/tsa_model.py:473: ValueWarning: No frequency information was provided, so inferred frequency D will be used.\n",
      "  self._init_dates(dates, freq)\n",
      "/Users/vibhu_goel/miniforge3/envs/thesis/lib/python3.9/site-packages/statsmodels/tsa/statespace/sarimax.py:966: UserWarning: Non-stationary starting autoregressive parameters found. Using zeros as starting parameters.\n",
      "  warn('Non-stationary starting autoregressive parameters'\n",
      "/Users/vibhu_goel/miniforge3/envs/thesis/lib/python3.9/site-packages/statsmodels/tsa/statespace/sarimax.py:978: UserWarning: Non-invertible starting MA parameters found. Using zeros as starting parameters.\n",
      "  warn('Non-invertible starting MA parameters found.'\n"
     ]
    },
    {
     "name": "stdout",
     "output_type": "stream",
     "text": [
      "------------------------XXX-------------------- 20\n"
     ]
    },
    {
     "name": "stderr",
     "output_type": "stream",
     "text": [
      "/Users/vibhu_goel/miniforge3/envs/thesis/lib/python3.9/site-packages/statsmodels/tsa/base/tsa_model.py:473: ValueWarning: No frequency information was provided, so inferred frequency D will be used.\n",
      "  self._init_dates(dates, freq)\n",
      "/Users/vibhu_goel/miniforge3/envs/thesis/lib/python3.9/site-packages/statsmodels/tsa/base/tsa_model.py:473: ValueWarning: No frequency information was provided, so inferred frequency D will be used.\n",
      "  self._init_dates(dates, freq)\n",
      "/Users/vibhu_goel/miniforge3/envs/thesis/lib/python3.9/site-packages/statsmodels/tsa/statespace/sarimax.py:966: UserWarning: Non-stationary starting autoregressive parameters found. Using zeros as starting parameters.\n",
      "  warn('Non-stationary starting autoregressive parameters'\n",
      "/Users/vibhu_goel/miniforge3/envs/thesis/lib/python3.9/site-packages/statsmodels/tsa/statespace/sarimax.py:978: UserWarning: Non-invertible starting MA parameters found. Using zeros as starting parameters.\n",
      "  warn('Non-invertible starting MA parameters found.'\n"
     ]
    },
    {
     "name": "stdout",
     "output_type": "stream",
     "text": [
      "------------------------XXX-------------------- 21\n"
     ]
    },
    {
     "name": "stderr",
     "output_type": "stream",
     "text": [
      "/Users/vibhu_goel/miniforge3/envs/thesis/lib/python3.9/site-packages/statsmodels/tsa/base/tsa_model.py:473: ValueWarning: No frequency information was provided, so inferred frequency D will be used.\n",
      "  self._init_dates(dates, freq)\n",
      "/Users/vibhu_goel/miniforge3/envs/thesis/lib/python3.9/site-packages/statsmodels/tsa/base/tsa_model.py:473: ValueWarning: No frequency information was provided, so inferred frequency D will be used.\n",
      "  self._init_dates(dates, freq)\n",
      "/Users/vibhu_goel/miniforge3/envs/thesis/lib/python3.9/site-packages/statsmodels/tsa/statespace/sarimax.py:966: UserWarning: Non-stationary starting autoregressive parameters found. Using zeros as starting parameters.\n",
      "  warn('Non-stationary starting autoregressive parameters'\n",
      "/Users/vibhu_goel/miniforge3/envs/thesis/lib/python3.9/site-packages/statsmodels/tsa/statespace/sarimax.py:978: UserWarning: Non-invertible starting MA parameters found. Using zeros as starting parameters.\n",
      "  warn('Non-invertible starting MA parameters found.'\n"
     ]
    },
    {
     "name": "stdout",
     "output_type": "stream",
     "text": [
      "------------------------XXX-------------------- 22\n"
     ]
    },
    {
     "name": "stderr",
     "output_type": "stream",
     "text": [
      "/Users/vibhu_goel/miniforge3/envs/thesis/lib/python3.9/site-packages/statsmodels/tsa/base/tsa_model.py:473: ValueWarning: No frequency information was provided, so inferred frequency D will be used.\n",
      "  self._init_dates(dates, freq)\n",
      "/Users/vibhu_goel/miniforge3/envs/thesis/lib/python3.9/site-packages/statsmodels/tsa/base/tsa_model.py:473: ValueWarning: No frequency information was provided, so inferred frequency D will be used.\n",
      "  self._init_dates(dates, freq)\n",
      "/Users/vibhu_goel/miniforge3/envs/thesis/lib/python3.9/site-packages/statsmodels/tsa/statespace/sarimax.py:966: UserWarning: Non-stationary starting autoregressive parameters found. Using zeros as starting parameters.\n",
      "  warn('Non-stationary starting autoregressive parameters'\n",
      "/Users/vibhu_goel/miniforge3/envs/thesis/lib/python3.9/site-packages/statsmodels/tsa/statespace/sarimax.py:978: UserWarning: Non-invertible starting MA parameters found. Using zeros as starting parameters.\n",
      "  warn('Non-invertible starting MA parameters found.'\n"
     ]
    },
    {
     "name": "stdout",
     "output_type": "stream",
     "text": [
      "------------------------XXX-------------------- 23\n"
     ]
    },
    {
     "name": "stderr",
     "output_type": "stream",
     "text": [
      "/Users/vibhu_goel/miniforge3/envs/thesis/lib/python3.9/site-packages/statsmodels/tsa/base/tsa_model.py:473: ValueWarning: No frequency information was provided, so inferred frequency D will be used.\n",
      "  self._init_dates(dates, freq)\n",
      "/Users/vibhu_goel/miniforge3/envs/thesis/lib/python3.9/site-packages/statsmodels/tsa/base/tsa_model.py:473: ValueWarning: No frequency information was provided, so inferred frequency D will be used.\n",
      "  self._init_dates(dates, freq)\n",
      "/Users/vibhu_goel/miniforge3/envs/thesis/lib/python3.9/site-packages/statsmodels/tsa/statespace/sarimax.py:966: UserWarning: Non-stationary starting autoregressive parameters found. Using zeros as starting parameters.\n",
      "  warn('Non-stationary starting autoregressive parameters'\n",
      "/Users/vibhu_goel/miniforge3/envs/thesis/lib/python3.9/site-packages/statsmodels/tsa/statespace/sarimax.py:978: UserWarning: Non-invertible starting MA parameters found. Using zeros as starting parameters.\n",
      "  warn('Non-invertible starting MA parameters found.'\n"
     ]
    },
    {
     "name": "stdout",
     "output_type": "stream",
     "text": [
      "------------------------XXX-------------------- 24\n"
     ]
    },
    {
     "name": "stderr",
     "output_type": "stream",
     "text": [
      "/Users/vibhu_goel/miniforge3/envs/thesis/lib/python3.9/site-packages/statsmodels/tsa/base/tsa_model.py:473: ValueWarning: No frequency information was provided, so inferred frequency D will be used.\n",
      "  self._init_dates(dates, freq)\n",
      "/Users/vibhu_goel/miniforge3/envs/thesis/lib/python3.9/site-packages/statsmodels/tsa/base/tsa_model.py:473: ValueWarning: No frequency information was provided, so inferred frequency D will be used.\n",
      "  self._init_dates(dates, freq)\n",
      "/Users/vibhu_goel/miniforge3/envs/thesis/lib/python3.9/site-packages/statsmodels/tsa/statespace/sarimax.py:966: UserWarning: Non-stationary starting autoregressive parameters found. Using zeros as starting parameters.\n",
      "  warn('Non-stationary starting autoregressive parameters'\n",
      "/Users/vibhu_goel/miniforge3/envs/thesis/lib/python3.9/site-packages/statsmodels/tsa/statespace/sarimax.py:978: UserWarning: Non-invertible starting MA parameters found. Using zeros as starting parameters.\n",
      "  warn('Non-invertible starting MA parameters found.'\n"
     ]
    },
    {
     "name": "stdout",
     "output_type": "stream",
     "text": [
      "------------------------XXX-------------------- 25\n"
     ]
    },
    {
     "name": "stderr",
     "output_type": "stream",
     "text": [
      "/Users/vibhu_goel/miniforge3/envs/thesis/lib/python3.9/site-packages/statsmodels/tsa/base/tsa_model.py:473: ValueWarning: No frequency information was provided, so inferred frequency D will be used.\n",
      "  self._init_dates(dates, freq)\n",
      "/Users/vibhu_goel/miniforge3/envs/thesis/lib/python3.9/site-packages/statsmodels/tsa/base/tsa_model.py:473: ValueWarning: No frequency information was provided, so inferred frequency D will be used.\n",
      "  self._init_dates(dates, freq)\n",
      "/Users/vibhu_goel/miniforge3/envs/thesis/lib/python3.9/site-packages/statsmodels/tsa/statespace/sarimax.py:966: UserWarning: Non-stationary starting autoregressive parameters found. Using zeros as starting parameters.\n",
      "  warn('Non-stationary starting autoregressive parameters'\n",
      "/Users/vibhu_goel/miniforge3/envs/thesis/lib/python3.9/site-packages/statsmodels/tsa/statespace/sarimax.py:978: UserWarning: Non-invertible starting MA parameters found. Using zeros as starting parameters.\n",
      "  warn('Non-invertible starting MA parameters found.'\n"
     ]
    },
    {
     "name": "stdout",
     "output_type": "stream",
     "text": [
      "------------------------XXX-------------------- 26\n"
     ]
    },
    {
     "name": "stderr",
     "output_type": "stream",
     "text": [
      "/Users/vibhu_goel/miniforge3/envs/thesis/lib/python3.9/site-packages/statsmodels/tsa/base/tsa_model.py:473: ValueWarning: No frequency information was provided, so inferred frequency D will be used.\n",
      "  self._init_dates(dates, freq)\n",
      "/Users/vibhu_goel/miniforge3/envs/thesis/lib/python3.9/site-packages/statsmodels/tsa/base/tsa_model.py:473: ValueWarning: No frequency information was provided, so inferred frequency D will be used.\n",
      "  self._init_dates(dates, freq)\n",
      "/Users/vibhu_goel/miniforge3/envs/thesis/lib/python3.9/site-packages/statsmodels/tsa/statespace/sarimax.py:966: UserWarning: Non-stationary starting autoregressive parameters found. Using zeros as starting parameters.\n",
      "  warn('Non-stationary starting autoregressive parameters'\n",
      "/Users/vibhu_goel/miniforge3/envs/thesis/lib/python3.9/site-packages/statsmodels/tsa/statespace/sarimax.py:978: UserWarning: Non-invertible starting MA parameters found. Using zeros as starting parameters.\n",
      "  warn('Non-invertible starting MA parameters found.'\n"
     ]
    },
    {
     "name": "stdout",
     "output_type": "stream",
     "text": [
      "------------------------XXX-------------------- 27\n"
     ]
    },
    {
     "name": "stderr",
     "output_type": "stream",
     "text": [
      "/Users/vibhu_goel/miniforge3/envs/thesis/lib/python3.9/site-packages/statsmodels/tsa/base/tsa_model.py:473: ValueWarning: No frequency information was provided, so inferred frequency D will be used.\n",
      "  self._init_dates(dates, freq)\n",
      "/Users/vibhu_goel/miniforge3/envs/thesis/lib/python3.9/site-packages/statsmodels/tsa/base/tsa_model.py:473: ValueWarning: No frequency information was provided, so inferred frequency D will be used.\n",
      "  self._init_dates(dates, freq)\n",
      "/Users/vibhu_goel/miniforge3/envs/thesis/lib/python3.9/site-packages/statsmodels/tsa/statespace/sarimax.py:966: UserWarning: Non-stationary starting autoregressive parameters found. Using zeros as starting parameters.\n",
      "  warn('Non-stationary starting autoregressive parameters'\n",
      "/Users/vibhu_goel/miniforge3/envs/thesis/lib/python3.9/site-packages/statsmodels/tsa/statespace/sarimax.py:978: UserWarning: Non-invertible starting MA parameters found. Using zeros as starting parameters.\n",
      "  warn('Non-invertible starting MA parameters found.'\n"
     ]
    },
    {
     "name": "stdout",
     "output_type": "stream",
     "text": [
      "------------------------XXX-------------------- 28\n"
     ]
    },
    {
     "name": "stderr",
     "output_type": "stream",
     "text": [
      "/Users/vibhu_goel/miniforge3/envs/thesis/lib/python3.9/site-packages/statsmodels/tsa/base/tsa_model.py:473: ValueWarning: No frequency information was provided, so inferred frequency D will be used.\n",
      "  self._init_dates(dates, freq)\n",
      "/Users/vibhu_goel/miniforge3/envs/thesis/lib/python3.9/site-packages/statsmodels/tsa/base/tsa_model.py:473: ValueWarning: No frequency information was provided, so inferred frequency D will be used.\n",
      "  self._init_dates(dates, freq)\n",
      "/Users/vibhu_goel/miniforge3/envs/thesis/lib/python3.9/site-packages/statsmodels/tsa/statespace/sarimax.py:966: UserWarning: Non-stationary starting autoregressive parameters found. Using zeros as starting parameters.\n",
      "  warn('Non-stationary starting autoregressive parameters'\n",
      "/Users/vibhu_goel/miniforge3/envs/thesis/lib/python3.9/site-packages/statsmodels/tsa/statespace/sarimax.py:978: UserWarning: Non-invertible starting MA parameters found. Using zeros as starting parameters.\n",
      "  warn('Non-invertible starting MA parameters found.'\n"
     ]
    },
    {
     "name": "stdout",
     "output_type": "stream",
     "text": [
      "------------------------XXX-------------------- 29\n"
     ]
    },
    {
     "name": "stderr",
     "output_type": "stream",
     "text": [
      "/Users/vibhu_goel/miniforge3/envs/thesis/lib/python3.9/site-packages/statsmodels/tsa/base/tsa_model.py:473: ValueWarning: No frequency information was provided, so inferred frequency D will be used.\n",
      "  self._init_dates(dates, freq)\n",
      "/Users/vibhu_goel/miniforge3/envs/thesis/lib/python3.9/site-packages/statsmodels/tsa/base/tsa_model.py:473: ValueWarning: No frequency information was provided, so inferred frequency D will be used.\n",
      "  self._init_dates(dates, freq)\n",
      "/Users/vibhu_goel/miniforge3/envs/thesis/lib/python3.9/site-packages/statsmodels/tsa/statespace/sarimax.py:966: UserWarning: Non-stationary starting autoregressive parameters found. Using zeros as starting parameters.\n",
      "  warn('Non-stationary starting autoregressive parameters'\n",
      "/Users/vibhu_goel/miniforge3/envs/thesis/lib/python3.9/site-packages/statsmodels/tsa/statespace/sarimax.py:978: UserWarning: Non-invertible starting MA parameters found. Using zeros as starting parameters.\n",
      "  warn('Non-invertible starting MA parameters found.'\n"
     ]
    },
    {
     "name": "stdout",
     "output_type": "stream",
     "text": [
      "------------------------XXX-------------------- 30\n"
     ]
    },
    {
     "name": "stderr",
     "output_type": "stream",
     "text": [
      "/Users/vibhu_goel/miniforge3/envs/thesis/lib/python3.9/site-packages/statsmodels/tsa/base/tsa_model.py:473: ValueWarning: No frequency information was provided, so inferred frequency D will be used.\n",
      "  self._init_dates(dates, freq)\n",
      "/Users/vibhu_goel/miniforge3/envs/thesis/lib/python3.9/site-packages/statsmodels/tsa/base/tsa_model.py:473: ValueWarning: No frequency information was provided, so inferred frequency D will be used.\n",
      "  self._init_dates(dates, freq)\n",
      "/Users/vibhu_goel/miniforge3/envs/thesis/lib/python3.9/site-packages/statsmodels/tsa/statespace/sarimax.py:966: UserWarning: Non-stationary starting autoregressive parameters found. Using zeros as starting parameters.\n",
      "  warn('Non-stationary starting autoregressive parameters'\n",
      "/Users/vibhu_goel/miniforge3/envs/thesis/lib/python3.9/site-packages/statsmodels/tsa/statespace/sarimax.py:978: UserWarning: Non-invertible starting MA parameters found. Using zeros as starting parameters.\n",
      "  warn('Non-invertible starting MA parameters found.'\n"
     ]
    },
    {
     "name": "stdout",
     "output_type": "stream",
     "text": [
      "------------------------XXX-------------------- 31\n"
     ]
    },
    {
     "name": "stderr",
     "output_type": "stream",
     "text": [
      "/Users/vibhu_goel/miniforge3/envs/thesis/lib/python3.9/site-packages/statsmodels/tsa/base/tsa_model.py:473: ValueWarning: No frequency information was provided, so inferred frequency D will be used.\n",
      "  self._init_dates(dates, freq)\n",
      "/Users/vibhu_goel/miniforge3/envs/thesis/lib/python3.9/site-packages/statsmodels/tsa/base/tsa_model.py:473: ValueWarning: No frequency information was provided, so inferred frequency D will be used.\n",
      "  self._init_dates(dates, freq)\n"
     ]
    },
    {
     "name": "stdout",
     "output_type": "stream",
     "text": [
      "------------------------XXX-------------------- 32\n"
     ]
    },
    {
     "name": "stderr",
     "output_type": "stream",
     "text": [
      "/Users/vibhu_goel/miniforge3/envs/thesis/lib/python3.9/site-packages/statsmodels/tsa/base/tsa_model.py:473: ValueWarning: No frequency information was provided, so inferred frequency D will be used.\n",
      "  self._init_dates(dates, freq)\n",
      "/Users/vibhu_goel/miniforge3/envs/thesis/lib/python3.9/site-packages/statsmodels/tsa/base/tsa_model.py:473: ValueWarning: No frequency information was provided, so inferred frequency D will be used.\n",
      "  self._init_dates(dates, freq)\n"
     ]
    },
    {
     "name": "stdout",
     "output_type": "stream",
     "text": [
      "------------------------XXX-------------------- 33\n"
     ]
    },
    {
     "name": "stderr",
     "output_type": "stream",
     "text": [
      "/Users/vibhu_goel/miniforge3/envs/thesis/lib/python3.9/site-packages/statsmodels/tsa/base/tsa_model.py:473: ValueWarning: No frequency information was provided, so inferred frequency D will be used.\n",
      "  self._init_dates(dates, freq)\n",
      "/Users/vibhu_goel/miniforge3/envs/thesis/lib/python3.9/site-packages/statsmodels/tsa/base/tsa_model.py:473: ValueWarning: No frequency information was provided, so inferred frequency D will be used.\n",
      "  self._init_dates(dates, freq)\n"
     ]
    },
    {
     "name": "stdout",
     "output_type": "stream",
     "text": [
      "------------------------XXX-------------------- 34\n"
     ]
    },
    {
     "name": "stderr",
     "output_type": "stream",
     "text": [
      "/Users/vibhu_goel/miniforge3/envs/thesis/lib/python3.9/site-packages/statsmodels/tsa/base/tsa_model.py:473: ValueWarning: No frequency information was provided, so inferred frequency D will be used.\n",
      "  self._init_dates(dates, freq)\n",
      "/Users/vibhu_goel/miniforge3/envs/thesis/lib/python3.9/site-packages/statsmodels/tsa/base/tsa_model.py:473: ValueWarning: No frequency information was provided, so inferred frequency D will be used.\n",
      "  self._init_dates(dates, freq)\n"
     ]
    },
    {
     "name": "stdout",
     "output_type": "stream",
     "text": [
      "------------------------XXX-------------------- 35\n"
     ]
    },
    {
     "name": "stderr",
     "output_type": "stream",
     "text": [
      "/Users/vibhu_goel/miniforge3/envs/thesis/lib/python3.9/site-packages/statsmodels/tsa/base/tsa_model.py:473: ValueWarning: No frequency information was provided, so inferred frequency D will be used.\n",
      "  self._init_dates(dates, freq)\n",
      "/Users/vibhu_goel/miniforge3/envs/thesis/lib/python3.9/site-packages/statsmodels/tsa/base/tsa_model.py:473: ValueWarning: No frequency information was provided, so inferred frequency D will be used.\n",
      "  self._init_dates(dates, freq)\n"
     ]
    },
    {
     "name": "stdout",
     "output_type": "stream",
     "text": [
      "------------------------XXX-------------------- 36\n"
     ]
    },
    {
     "name": "stderr",
     "output_type": "stream",
     "text": [
      "/Users/vibhu_goel/miniforge3/envs/thesis/lib/python3.9/site-packages/statsmodels/tsa/base/tsa_model.py:473: ValueWarning: No frequency information was provided, so inferred frequency D will be used.\n",
      "  self._init_dates(dates, freq)\n",
      "/Users/vibhu_goel/miniforge3/envs/thesis/lib/python3.9/site-packages/statsmodels/tsa/base/tsa_model.py:473: ValueWarning: No frequency information was provided, so inferred frequency D will be used.\n",
      "  self._init_dates(dates, freq)\n"
     ]
    },
    {
     "name": "stdout",
     "output_type": "stream",
     "text": [
      "------------------------XXX-------------------- 37\n"
     ]
    },
    {
     "name": "stderr",
     "output_type": "stream",
     "text": [
      "/Users/vibhu_goel/miniforge3/envs/thesis/lib/python3.9/site-packages/statsmodels/tsa/base/tsa_model.py:473: ValueWarning: No frequency information was provided, so inferred frequency D will be used.\n",
      "  self._init_dates(dates, freq)\n",
      "/Users/vibhu_goel/miniforge3/envs/thesis/lib/python3.9/site-packages/statsmodels/tsa/base/tsa_model.py:473: ValueWarning: No frequency information was provided, so inferred frequency D will be used.\n",
      "  self._init_dates(dates, freq)\n"
     ]
    },
    {
     "name": "stdout",
     "output_type": "stream",
     "text": [
      "------------------------XXX-------------------- 38\n"
     ]
    },
    {
     "name": "stderr",
     "output_type": "stream",
     "text": [
      "/Users/vibhu_goel/miniforge3/envs/thesis/lib/python3.9/site-packages/statsmodels/tsa/base/tsa_model.py:473: ValueWarning: No frequency information was provided, so inferred frequency D will be used.\n",
      "  self._init_dates(dates, freq)\n",
      "/Users/vibhu_goel/miniforge3/envs/thesis/lib/python3.9/site-packages/statsmodels/tsa/base/tsa_model.py:473: ValueWarning: No frequency information was provided, so inferred frequency D will be used.\n",
      "  self._init_dates(dates, freq)\n"
     ]
    },
    {
     "name": "stdout",
     "output_type": "stream",
     "text": [
      "------------------------XXX-------------------- 39\n"
     ]
    },
    {
     "name": "stderr",
     "output_type": "stream",
     "text": [
      "/Users/vibhu_goel/miniforge3/envs/thesis/lib/python3.9/site-packages/statsmodels/tsa/base/tsa_model.py:473: ValueWarning: No frequency information was provided, so inferred frequency D will be used.\n",
      "  self._init_dates(dates, freq)\n",
      "/Users/vibhu_goel/miniforge3/envs/thesis/lib/python3.9/site-packages/statsmodels/tsa/base/tsa_model.py:473: ValueWarning: No frequency information was provided, so inferred frequency D will be used.\n",
      "  self._init_dates(dates, freq)\n"
     ]
    },
    {
     "name": "stdout",
     "output_type": "stream",
     "text": [
      "------------------------XXX-------------------- 40\n"
     ]
    },
    {
     "name": "stderr",
     "output_type": "stream",
     "text": [
      "/Users/vibhu_goel/miniforge3/envs/thesis/lib/python3.9/site-packages/statsmodels/tsa/base/tsa_model.py:473: ValueWarning: No frequency information was provided, so inferred frequency D will be used.\n",
      "  self._init_dates(dates, freq)\n",
      "/Users/vibhu_goel/miniforge3/envs/thesis/lib/python3.9/site-packages/statsmodels/tsa/base/tsa_model.py:473: ValueWarning: No frequency information was provided, so inferred frequency D will be used.\n",
      "  self._init_dates(dates, freq)\n"
     ]
    },
    {
     "name": "stdout",
     "output_type": "stream",
     "text": [
      "------------------------XXX-------------------- 41\n"
     ]
    },
    {
     "name": "stderr",
     "output_type": "stream",
     "text": [
      "/Users/vibhu_goel/miniforge3/envs/thesis/lib/python3.9/site-packages/statsmodels/tsa/base/tsa_model.py:473: ValueWarning: No frequency information was provided, so inferred frequency D will be used.\n",
      "  self._init_dates(dates, freq)\n",
      "/Users/vibhu_goel/miniforge3/envs/thesis/lib/python3.9/site-packages/statsmodels/tsa/base/tsa_model.py:473: ValueWarning: No frequency information was provided, so inferred frequency D will be used.\n",
      "  self._init_dates(dates, freq)\n"
     ]
    },
    {
     "name": "stdout",
     "output_type": "stream",
     "text": [
      "------------------------XXX-------------------- 42\n"
     ]
    },
    {
     "name": "stderr",
     "output_type": "stream",
     "text": [
      "/Users/vibhu_goel/miniforge3/envs/thesis/lib/python3.9/site-packages/statsmodels/tsa/base/tsa_model.py:473: ValueWarning: No frequency information was provided, so inferred frequency D will be used.\n",
      "  self._init_dates(dates, freq)\n",
      "/Users/vibhu_goel/miniforge3/envs/thesis/lib/python3.9/site-packages/statsmodels/tsa/base/tsa_model.py:473: ValueWarning: No frequency information was provided, so inferred frequency D will be used.\n",
      "  self._init_dates(dates, freq)\n"
     ]
    },
    {
     "name": "stdout",
     "output_type": "stream",
     "text": [
      "------------------------XXX-------------------- 43\n"
     ]
    },
    {
     "name": "stderr",
     "output_type": "stream",
     "text": [
      "/Users/vibhu_goel/miniforge3/envs/thesis/lib/python3.9/site-packages/statsmodels/tsa/base/tsa_model.py:473: ValueWarning: No frequency information was provided, so inferred frequency D will be used.\n",
      "  self._init_dates(dates, freq)\n",
      "/Users/vibhu_goel/miniforge3/envs/thesis/lib/python3.9/site-packages/statsmodels/tsa/base/tsa_model.py:473: ValueWarning: No frequency information was provided, so inferred frequency D will be used.\n",
      "  self._init_dates(dates, freq)\n"
     ]
    },
    {
     "name": "stdout",
     "output_type": "stream",
     "text": [
      "------------------------XXX-------------------- 44\n"
     ]
    },
    {
     "name": "stderr",
     "output_type": "stream",
     "text": [
      "/Users/vibhu_goel/miniforge3/envs/thesis/lib/python3.9/site-packages/statsmodels/tsa/base/tsa_model.py:473: ValueWarning: No frequency information was provided, so inferred frequency D will be used.\n",
      "  self._init_dates(dates, freq)\n",
      "/Users/vibhu_goel/miniforge3/envs/thesis/lib/python3.9/site-packages/statsmodels/tsa/base/tsa_model.py:473: ValueWarning: No frequency information was provided, so inferred frequency D will be used.\n",
      "  self._init_dates(dates, freq)\n"
     ]
    },
    {
     "name": "stdout",
     "output_type": "stream",
     "text": [
      "------------------------XXX-------------------- 45\n"
     ]
    },
    {
     "name": "stderr",
     "output_type": "stream",
     "text": [
      "/Users/vibhu_goel/miniforge3/envs/thesis/lib/python3.9/site-packages/statsmodels/tsa/base/tsa_model.py:473: ValueWarning: No frequency information was provided, so inferred frequency D will be used.\n",
      "  self._init_dates(dates, freq)\n",
      "/Users/vibhu_goel/miniforge3/envs/thesis/lib/python3.9/site-packages/statsmodels/tsa/base/tsa_model.py:473: ValueWarning: No frequency information was provided, so inferred frequency D will be used.\n",
      "  self._init_dates(dates, freq)\n"
     ]
    },
    {
     "name": "stdout",
     "output_type": "stream",
     "text": [
      "------------------------XXX-------------------- 46\n"
     ]
    },
    {
     "name": "stderr",
     "output_type": "stream",
     "text": [
      "/Users/vibhu_goel/miniforge3/envs/thesis/lib/python3.9/site-packages/statsmodels/tsa/base/tsa_model.py:473: ValueWarning: No frequency information was provided, so inferred frequency D will be used.\n",
      "  self._init_dates(dates, freq)\n",
      "/Users/vibhu_goel/miniforge3/envs/thesis/lib/python3.9/site-packages/statsmodels/tsa/base/tsa_model.py:473: ValueWarning: No frequency information was provided, so inferred frequency D will be used.\n",
      "  self._init_dates(dates, freq)\n"
     ]
    },
    {
     "name": "stdout",
     "output_type": "stream",
     "text": [
      "------------------------XXX-------------------- 47\n"
     ]
    },
    {
     "name": "stderr",
     "output_type": "stream",
     "text": [
      "/Users/vibhu_goel/miniforge3/envs/thesis/lib/python3.9/site-packages/statsmodels/tsa/base/tsa_model.py:473: ValueWarning: No frequency information was provided, so inferred frequency D will be used.\n",
      "  self._init_dates(dates, freq)\n",
      "/Users/vibhu_goel/miniforge3/envs/thesis/lib/python3.9/site-packages/statsmodels/tsa/base/tsa_model.py:473: ValueWarning: No frequency information was provided, so inferred frequency D will be used.\n",
      "  self._init_dates(dates, freq)\n"
     ]
    },
    {
     "name": "stdout",
     "output_type": "stream",
     "text": [
      "------------------------XXX-------------------- 48\n"
     ]
    },
    {
     "name": "stderr",
     "output_type": "stream",
     "text": [
      "/Users/vibhu_goel/miniforge3/envs/thesis/lib/python3.9/site-packages/statsmodels/tsa/base/tsa_model.py:473: ValueWarning: No frequency information was provided, so inferred frequency D will be used.\n",
      "  self._init_dates(dates, freq)\n",
      "/Users/vibhu_goel/miniforge3/envs/thesis/lib/python3.9/site-packages/statsmodels/tsa/base/tsa_model.py:473: ValueWarning: No frequency information was provided, so inferred frequency D will be used.\n",
      "  self._init_dates(dates, freq)\n"
     ]
    },
    {
     "name": "stdout",
     "output_type": "stream",
     "text": [
      "------------------------XXX-------------------- 49\n"
     ]
    },
    {
     "name": "stderr",
     "output_type": "stream",
     "text": [
      "/Users/vibhu_goel/miniforge3/envs/thesis/lib/python3.9/site-packages/statsmodels/tsa/base/tsa_model.py:473: ValueWarning: No frequency information was provided, so inferred frequency D will be used.\n",
      "  self._init_dates(dates, freq)\n",
      "/Users/vibhu_goel/miniforge3/envs/thesis/lib/python3.9/site-packages/statsmodels/tsa/base/tsa_model.py:473: ValueWarning: No frequency information was provided, so inferred frequency D will be used.\n",
      "  self._init_dates(dates, freq)\n"
     ]
    },
    {
     "name": "stdout",
     "output_type": "stream",
     "text": [
      "------------------------XXX-------------------- 50\n"
     ]
    },
    {
     "name": "stderr",
     "output_type": "stream",
     "text": [
      "/Users/vibhu_goel/miniforge3/envs/thesis/lib/python3.9/site-packages/statsmodels/tsa/base/tsa_model.py:473: ValueWarning: No frequency information was provided, so inferred frequency D will be used.\n",
      "  self._init_dates(dates, freq)\n",
      "/Users/vibhu_goel/miniforge3/envs/thesis/lib/python3.9/site-packages/statsmodels/tsa/base/tsa_model.py:473: ValueWarning: No frequency information was provided, so inferred frequency D will be used.\n",
      "  self._init_dates(dates, freq)\n"
     ]
    },
    {
     "name": "stdout",
     "output_type": "stream",
     "text": [
      "------------------------XXX-------------------- 51\n"
     ]
    },
    {
     "name": "stderr",
     "output_type": "stream",
     "text": [
      "/Users/vibhu_goel/miniforge3/envs/thesis/lib/python3.9/site-packages/statsmodels/tsa/base/tsa_model.py:473: ValueWarning: No frequency information was provided, so inferred frequency D will be used.\n",
      "  self._init_dates(dates, freq)\n",
      "/Users/vibhu_goel/miniforge3/envs/thesis/lib/python3.9/site-packages/statsmodels/tsa/base/tsa_model.py:473: ValueWarning: No frequency information was provided, so inferred frequency D will be used.\n",
      "  self._init_dates(dates, freq)\n"
     ]
    },
    {
     "name": "stdout",
     "output_type": "stream",
     "text": [
      "------------------------XXX-------------------- 52\n"
     ]
    },
    {
     "name": "stderr",
     "output_type": "stream",
     "text": [
      "/Users/vibhu_goel/miniforge3/envs/thesis/lib/python3.9/site-packages/statsmodels/tsa/base/tsa_model.py:473: ValueWarning: No frequency information was provided, so inferred frequency D will be used.\n",
      "  self._init_dates(dates, freq)\n",
      "/Users/vibhu_goel/miniforge3/envs/thesis/lib/python3.9/site-packages/statsmodels/tsa/base/tsa_model.py:473: ValueWarning: No frequency information was provided, so inferred frequency D will be used.\n",
      "  self._init_dates(dates, freq)\n"
     ]
    },
    {
     "name": "stdout",
     "output_type": "stream",
     "text": [
      "------------------------XXX-------------------- 53\n"
     ]
    },
    {
     "name": "stderr",
     "output_type": "stream",
     "text": [
      "/Users/vibhu_goel/miniforge3/envs/thesis/lib/python3.9/site-packages/statsmodels/tsa/base/tsa_model.py:473: ValueWarning: No frequency information was provided, so inferred frequency D will be used.\n",
      "  self._init_dates(dates, freq)\n",
      "/Users/vibhu_goel/miniforge3/envs/thesis/lib/python3.9/site-packages/statsmodels/tsa/base/tsa_model.py:473: ValueWarning: No frequency information was provided, so inferred frequency D will be used.\n",
      "  self._init_dates(dates, freq)\n"
     ]
    },
    {
     "name": "stdout",
     "output_type": "stream",
     "text": [
      "------------------------XXX-------------------- 54\n"
     ]
    },
    {
     "name": "stderr",
     "output_type": "stream",
     "text": [
      "/Users/vibhu_goel/miniforge3/envs/thesis/lib/python3.9/site-packages/statsmodels/tsa/base/tsa_model.py:473: ValueWarning: No frequency information was provided, so inferred frequency D will be used.\n",
      "  self._init_dates(dates, freq)\n",
      "/Users/vibhu_goel/miniforge3/envs/thesis/lib/python3.9/site-packages/statsmodels/tsa/base/tsa_model.py:473: ValueWarning: No frequency information was provided, so inferred frequency D will be used.\n",
      "  self._init_dates(dates, freq)\n"
     ]
    },
    {
     "name": "stdout",
     "output_type": "stream",
     "text": [
      "------------------------XXX-------------------- 55\n"
     ]
    },
    {
     "name": "stderr",
     "output_type": "stream",
     "text": [
      "/Users/vibhu_goel/miniforge3/envs/thesis/lib/python3.9/site-packages/statsmodels/tsa/base/tsa_model.py:473: ValueWarning: No frequency information was provided, so inferred frequency D will be used.\n",
      "  self._init_dates(dates, freq)\n",
      "/Users/vibhu_goel/miniforge3/envs/thesis/lib/python3.9/site-packages/statsmodels/tsa/base/tsa_model.py:473: ValueWarning: No frequency information was provided, so inferred frequency D will be used.\n",
      "  self._init_dates(dates, freq)\n"
     ]
    },
    {
     "name": "stdout",
     "output_type": "stream",
     "text": [
      "------------------------XXX-------------------- 56\n"
     ]
    },
    {
     "name": "stderr",
     "output_type": "stream",
     "text": [
      "/Users/vibhu_goel/miniforge3/envs/thesis/lib/python3.9/site-packages/statsmodels/tsa/base/tsa_model.py:473: ValueWarning: No frequency information was provided, so inferred frequency D will be used.\n",
      "  self._init_dates(dates, freq)\n",
      "/Users/vibhu_goel/miniforge3/envs/thesis/lib/python3.9/site-packages/statsmodels/tsa/base/tsa_model.py:473: ValueWarning: No frequency information was provided, so inferred frequency D will be used.\n",
      "  self._init_dates(dates, freq)\n"
     ]
    },
    {
     "name": "stdout",
     "output_type": "stream",
     "text": [
      "------------------------XXX-------------------- 57\n"
     ]
    },
    {
     "name": "stderr",
     "output_type": "stream",
     "text": [
      "/Users/vibhu_goel/miniforge3/envs/thesis/lib/python3.9/site-packages/statsmodels/tsa/base/tsa_model.py:473: ValueWarning: No frequency information was provided, so inferred frequency D will be used.\n",
      "  self._init_dates(dates, freq)\n",
      "/Users/vibhu_goel/miniforge3/envs/thesis/lib/python3.9/site-packages/statsmodels/tsa/base/tsa_model.py:473: ValueWarning: No frequency information was provided, so inferred frequency D will be used.\n",
      "  self._init_dates(dates, freq)\n"
     ]
    },
    {
     "name": "stdout",
     "output_type": "stream",
     "text": [
      "------------------------XXX-------------------- 58\n"
     ]
    },
    {
     "name": "stderr",
     "output_type": "stream",
     "text": [
      "/Users/vibhu_goel/miniforge3/envs/thesis/lib/python3.9/site-packages/statsmodels/tsa/base/tsa_model.py:473: ValueWarning: No frequency information was provided, so inferred frequency D will be used.\n",
      "  self._init_dates(dates, freq)\n",
      "/Users/vibhu_goel/miniforge3/envs/thesis/lib/python3.9/site-packages/statsmodels/tsa/base/tsa_model.py:473: ValueWarning: No frequency information was provided, so inferred frequency D will be used.\n",
      "  self._init_dates(dates, freq)\n"
     ]
    },
    {
     "name": "stdout",
     "output_type": "stream",
     "text": [
      "------------------------XXX-------------------- 59\n"
     ]
    },
    {
     "name": "stderr",
     "output_type": "stream",
     "text": [
      "/Users/vibhu_goel/miniforge3/envs/thesis/lib/python3.9/site-packages/statsmodels/tsa/base/tsa_model.py:473: ValueWarning: No frequency information was provided, so inferred frequency D will be used.\n",
      "  self._init_dates(dates, freq)\n",
      "/Users/vibhu_goel/miniforge3/envs/thesis/lib/python3.9/site-packages/statsmodels/tsa/base/tsa_model.py:473: ValueWarning: No frequency information was provided, so inferred frequency D will be used.\n",
      "  self._init_dates(dates, freq)\n"
     ]
    },
    {
     "name": "stdout",
     "output_type": "stream",
     "text": [
      "------------------------XXX-------------------- 60\n"
     ]
    },
    {
     "name": "stderr",
     "output_type": "stream",
     "text": [
      "/Users/vibhu_goel/miniforge3/envs/thesis/lib/python3.9/site-packages/statsmodels/tsa/base/tsa_model.py:473: ValueWarning: No frequency information was provided, so inferred frequency D will be used.\n",
      "  self._init_dates(dates, freq)\n",
      "/Users/vibhu_goel/miniforge3/envs/thesis/lib/python3.9/site-packages/statsmodels/tsa/base/tsa_model.py:473: ValueWarning: No frequency information was provided, so inferred frequency D will be used.\n",
      "  self._init_dates(dates, freq)\n"
     ]
    },
    {
     "name": "stdout",
     "output_type": "stream",
     "text": [
      "------------------------XXX-------------------- 61\n"
     ]
    },
    {
     "name": "stderr",
     "output_type": "stream",
     "text": [
      "/Users/vibhu_goel/miniforge3/envs/thesis/lib/python3.9/site-packages/statsmodels/tsa/base/tsa_model.py:473: ValueWarning: No frequency information was provided, so inferred frequency D will be used.\n",
      "  self._init_dates(dates, freq)\n",
      "/Users/vibhu_goel/miniforge3/envs/thesis/lib/python3.9/site-packages/statsmodels/tsa/base/tsa_model.py:473: ValueWarning: No frequency information was provided, so inferred frequency D will be used.\n",
      "  self._init_dates(dates, freq)\n"
     ]
    },
    {
     "name": "stdout",
     "output_type": "stream",
     "text": [
      "------------------------XXX-------------------- 62\n"
     ]
    },
    {
     "name": "stderr",
     "output_type": "stream",
     "text": [
      "/Users/vibhu_goel/miniforge3/envs/thesis/lib/python3.9/site-packages/statsmodels/tsa/base/tsa_model.py:473: ValueWarning: No frequency information was provided, so inferred frequency D will be used.\n",
      "  self._init_dates(dates, freq)\n",
      "/Users/vibhu_goel/miniforge3/envs/thesis/lib/python3.9/site-packages/statsmodels/tsa/base/tsa_model.py:473: ValueWarning: No frequency information was provided, so inferred frequency D will be used.\n",
      "  self._init_dates(dates, freq)\n"
     ]
    },
    {
     "name": "stdout",
     "output_type": "stream",
     "text": [
      "------------------------XXX-------------------- 63\n",
      "Best Non-Seasonal Order: (2, 0, 1)\n",
      "Best Seasonal Order: (0, 0, 0, 7)\n",
      "Best rmse on Testing Data: 0.43536641134772375\n"
     ]
    }
   ],
   "source": [
    "size = len(df)- 7\n",
    "train = df['total_house_usage_log'][:size]\n",
    "test = df['total_house_usage_log'][size:]\n",
    "print (test.shape)\n",
    "\n",
    "# Define the ranges of values for all parameters\n",
    "p_range = range(2, 3)  # Decided from PACF plot from eda\n",
    "d_range = range(0, 1)  # The data is stationary so no need for differencing\n",
    "q_range = range(1, 3)  # range based ACF plot\n",
    "P_range = range(0, 4)\n",
    "D_range = range(0, 2)\n",
    "Q_range = range(0, 4)\n",
    "m_range = [7]\n",
    "\n",
    "best_order = None\n",
    "best_seasonal_order = None\n",
    "metric= 'aic'\n",
    "iteration_number= 0\n",
    "if metric == 'r2':\n",
    "    best_metric = 0\n",
    "else:\n",
    "    best_metric = float(\"inf\")\n",
    "\n",
    "# Iterate through all possible combinations of parameters\n",
    "for (p, d, q, P, D, Q, m) in itertools.product(p_range, d_range, q_range, P_range, D_range, Q_range, m_range):\n",
    "    try:\n",
    "        sarima_model = sm.tsa.SARIMAX(train, order=(p, d, q), seasonal_order=(P, D, Q, m))\n",
    "        sarima_results = sarima_model.fit(disp=-1,warn_convergence=False)\n",
    "        \n",
    "        # Make predictions for both training and testing datasets\n",
    "        # train_predictions = sarima_results.predict(start=0, end=len(train) - 1)\n",
    "        test_predictions = sarima_results.predict(start=len(train), end=len(train) + len(test) - 1)\n",
    "        \n",
    "        if metric == 'aic':\n",
    "            aic = sarima_results.aic\n",
    "            eval = aic\n",
    "        \n",
    "        if metric == 'mape':\n",
    "            # Calculate MAPE for both training and testing datasets\n",
    "            eval = np.mean(np.abs((train - train_predictions) / train)) * 100\n",
    "            # eval = np.mean(np.abs((test - test_predictions) / test)) * 100\n",
    "            \n",
    "        if metric == 'rmse':\n",
    "            # Calculate RMSE for training dataset\n",
    "            eval = np.sqrt(mean_squared_error(train, train_predictions))\n",
    "            # Calculate RMSE for testing dataset\n",
    "            # eval = np.sqrt(mean_squared_error(test, test_predictions))\n",
    "\n",
    "        if metric == 'r2':\n",
    "            # Calculate MAPE for both training and testing datasets\n",
    "            eval = calculate_r_squared_from_correlation(train,train_predictions)\n",
    "            # eval = calculate_r_squared_from_correlation(test,test_predictions)\n",
    "        \n",
    "        # Update the best MAPE and parameters if the current model is better\n",
    "        if metric == 'r2':\n",
    "            if eval > best_metric:\n",
    "                best_metric = eval\n",
    "                best_order = (p, d, q)\n",
    "                best_seasonal_order = (P, D, Q, m)\n",
    "        else:\n",
    "            if eval < best_metric:\n",
    "                best_metric = eval\n",
    "                best_order = (p, d, q)\n",
    "                best_seasonal_order = (P, D, Q, m)\n",
    "    except Exception as e:\n",
    "        print (traceback.print_exc())\n",
    "        continue\n",
    "    print ('------------------------XXX--------------------',iteration_number)\n",
    "    iteration_number+=1\n",
    "\n",
    "# Print the best parameter combination and MAPE\n",
    "print(\"Best Non-Seasonal Order:\", best_order)\n",
    "print(\"Best Seasonal Order:\", best_seasonal_order)\n",
    "print(f\"Best {metric} on Testing Data:\", best_metric)\n"
   ]
  },
  {
   "cell_type": "code",
   "execution_count": 26,
   "id": "567bdf0c-353e-4b50-bff2-a65672abf343",
   "metadata": {},
   "outputs": [
    {
     "name": "stdout",
     "output_type": "stream",
     "text": [
      "(7,)\n"
     ]
    },
    {
     "name": "stderr",
     "output_type": "stream",
     "text": [
      "/Users/vibhu_goel/miniforge3/envs/thesis/lib/python3.9/site-packages/statsmodels/tsa/base/tsa_model.py:473: ValueWarning: No frequency information was provided, so inferred frequency D will be used.\n",
      "  self._init_dates(dates, freq)\n",
      "/Users/vibhu_goel/miniforge3/envs/thesis/lib/python3.9/site-packages/statsmodels/tsa/base/tsa_model.py:473: ValueWarning: No frequency information was provided, so inferred frequency D will be used.\n",
      "  self._init_dates(dates, freq)\n",
      "/Users/vibhu_goel/miniforge3/envs/thesis/lib/python3.9/site-packages/statsmodels/tsa/statespace/sarimax.py:966: UserWarning: Non-stationary starting autoregressive parameters found. Using zeros as starting parameters.\n",
      "  warn('Non-stationary starting autoregressive parameters'\n",
      "/Users/vibhu_goel/miniforge3/envs/thesis/lib/python3.9/site-packages/statsmodels/tsa/statespace/sarimax.py:978: UserWarning: Non-invertible starting MA parameters found. Using zeros as starting parameters.\n",
      "  warn('Non-invertible starting MA parameters found.'\n",
      "/Users/vibhu_goel/miniforge3/envs/thesis/lib/python3.9/site-packages/statsmodels/base/model.py:607: ConvergenceWarning: Maximum Likelihood optimization failed to converge. Check mle_retvals\n",
      "  warnings.warn(\"Maximum Likelihood optimization failed to \"\n"
     ]
    },
    {
     "data": {
      "image/png": "[encoded data removed]",
      "text/plain": [
       "<Figure size 1700x800 with 1 Axes>"
      ]
     },
     "metadata": {},
     "output_type": "display_data"
    },
    {
     "name": "stdout",
     "output_type": "stream",
     "text": [
      "  Dataset         MAE   MAPE (%)      MASE  R-squared        RMSE\n",
      "0   Train  129.253968  15.827932  0.860345   0.562366  168.783974\n",
      "1    Test  111.976275  10.794399  0.917299   0.148432  127.164537\n"
     ]
    }
   ],
   "source": [
    "size = len(df)- 7\n",
    "train = df['total_house_usage_log'][:size]\n",
    "test = df['total_house_usage_log'][size:]\n",
    "print (test.shape)\n",
    "\n",
    "# best_order = (2, 0, 1)  # Replace p_best, d_best, q_best with the best values\n",
    "# best_seasonal_order = (1, 0, 2, 7)  # Replace P_best, D_best, Q_best, m_best with the best values\n",
    "\n",
    "# best_order = (2, 0, 2)  # Replace p_best, d_best, q_best with the best values\n",
    "# best_seasonal_order = (0, 0, 3, 7)  # Replace P_best, D_best, Q_best, m_best with the best values\n",
    "\n",
    "# best_order = (2, 0, 2)  # Replace p_best, d_best, q_best with the best values\n",
    "# best_seasonal_order = (0,0,0,7)  # Replace P_best, D_best, Q_best, m_best with the best values\n",
    "\n",
    "\n",
    "# best_order = (2, 0, 1)  # Replace p_best, d_best, q_best with the best values\n",
    "# best_seasonal_order = (0,0,0,7)  # Replace P_best, D_best, Q_best, m_best with the best values\n",
    "\n",
    "best_order = (2, 0, 1)  # Replace p_best, d_best, q_best with the best values\n",
    "best_seasonal_order =  (2, 0, 1, 7) # Replace P_best, D_best, Q_best, m_best with the best values\n",
    "\n",
    "# best_orders=          [ (2, 0, 1), (2, 0, 1),     (2, 0, 2) , (2, 0, 2) ]\n",
    "# best_seasonal_orders= [(0,0,0,7),  (2, 0, 1, 7),  (0,0,0,7),  (0, 0, 3, 7) ]\n",
    "# for i in range(len(best_orders)):\n",
    "#     best_order= best_orders[i]\n",
    "#     best_seasonal_order= best_seasonal_orders[i]\n",
    "if best_seasonal_order[3] == 1:\n",
    "    # Build the final SARIMA model with the best parameters\n",
    "    sarima_model = sm.tsa.SARIMAX(train, order=best_order)\n",
    "    sarima_results = sarima_model.fit(disp=-1)\n",
    "else:\n",
    "    # Build the final SARIMA model with the best parameters\n",
    "    sarima_model = sm.tsa.SARIMAX(train, order=best_order, seasonal_order=best_seasonal_order)\n",
    "    sarima_results = sarima_model.fit(disp=-1)\n",
    "\n",
    "# Make predictions for both training and testing datasets\n",
    "train_predictions = sarima_results.predict(start=0, end=len(train) - 1, dynamic=False)\n",
    "test_predictions = sarima_results.predict(start=len(train), end=len(train) + len(test) - 1, dynamic=False)\n",
    "\n",
    "metrics = evaluate_sarima_model(np.expm1(train), np.expm1(test), np.expm1(train_predictions), np.expm1(test_predictions),1)\n",
    "print(metrics)"
   ]
  },
  {
   "cell_type": "code",
   "execution_count": null,
   "id": "7b861182-49fb-4996-bbde-00d668c95ed6",
   "metadata": {},
   "outputs": [],
   "source": []
  },
  {
   "cell_type": "code",
   "execution_count": null,
   "id": "da3be7ee-d7b7-4f0e-8771-f32f33fd36dd",
   "metadata": {
    "scrolled": true
   },
   "outputs": [],
   "source": [
    "size = len(df)- 7\n",
    "train = df['total_house_usage_log'][:size]\n",
    "test = df['total_house_usage_log'][size:]\n",
    "print (test.shape)\n",
    "\n",
    "# Define the best SARIMA parameters obtained from the grid search using RMSE\n",
    "best_order = (2, 0, 1)  # Replace p_best, d_best, q_best with the best values\n",
    "best_seasonal_order = (1, 1, 0, 7)  # Replace P_best, D_best, Q_best, m_best with the best values\n",
    "\n",
    "best_order =  (2, 0, 2) # Replace p_best, d_best, q_best with the best values\n",
    "best_seasonal_order = (2, 0, 0, 7)  # Replace P_best, D_best, Q_best, m_best with the best values\n",
    "\n",
    "best_order =  (2, 0, 1) # Replace p_best, d_best, q_best with the best values\n",
    "best_seasonal_order = (2, 0, 1, 7)  # Replace P_best, D_best, Q_best, m_best with the best values\n",
    "\n",
    "# Build the final SARIMA model with the best parameters\n",
    "sarima_model = sm.tsa.SARIMAX(train, order=best_order, seasonal_order=best_seasonal_order)\n",
    "sarima_results = sarima_model.fit(disp=-1)\n",
    "\n",
    "# Make predictions for both training and testing datasets\n",
    "train_predictions = sarima_results.predict(start=0, end=len(train) - 1, dynamic=False)\n",
    "test_predictions = sarima_results.predict(start=len(train), end=len(train) + len(test) - 1, dynamic=False)\n"
   ]
  },
  {
   "cell_type": "code",
   "execution_count": null,
   "id": "bf1af16c-18ec-4cbb-8080-19db74b60179",
   "metadata": {},
   "outputs": [],
   "source": [
    "metrics = evaluate_sarima_model(train, test, train_predictions, test_predictions,1)\n",
    "print(metrics)"
   ]
  },
  {
   "cell_type": "code",
   "execution_count": null,
   "id": "c2229c69-e01b-41b9-97de-054c976d66bf",
   "metadata": {},
   "outputs": [],
   "source": []
  },
  {
   "cell_type": "code",
   "execution_count": null,
   "id": "44c07fa2-ac6b-47f9-abe8-02fac594e9f5",
   "metadata": {
    "scrolled": true
   },
   "outputs": [],
   "source": [
    "size = len(df)- 7\n",
    "train = df['total_house_usage_log'][:size]\n",
    "test = df['total_house_usage_log'][size:]\n",
    "print (test.shape)\n",
    "\n",
    "# Define the best SARIMA parameters obtained from the grid search using MAPE\n",
    "best_order = (2, 0, 1)  # Replace p_best, d_best, q_best with the best values\n",
    "best_seasonal_order = (1, 1, 0, 7)  # Replace P_best, D_best, Q_best, m_best with the best values\n",
    "\n",
    "best_order = (2, 0, 2)  # Replace p_best, d_best, q_best with the best values\n",
    "best_seasonal_order = (2, 0, 0, 7)  # Replace P_best, D_best, Q_best, m_best with the best values\n",
    "\n",
    "best_order =  (2, 0, 1) # Replace p_best, d_best, q_best with the best values\n",
    "best_seasonal_order =  (2, 1, 1, 7) # Replace P_best, D_best, Q_best, m_best with the best values\n",
    "\n",
    "# Build the final SARIMA model with the best parameters\n",
    "sarima_model = sm.tsa.SARIMAX(train, order=best_order, seasonal_order=best_seasonal_order)\n",
    "sarima_results = sarima_model.fit()\n",
    "\n",
    "# Make predictions for both training and testing datasets\n",
    "train_predictions = sarima_results.predict(start=0, end=len(train) - 1, dynamic=False)\n",
    "test_predictions = sarima_results.predict(start=len(train), end=len(train) + len(test) - 1, dynamic=False)\n"
   ]
  },
  {
   "cell_type": "code",
   "execution_count": null,
   "id": "916b5c07-6883-4861-b851-70ccaab6526f",
   "metadata": {},
   "outputs": [],
   "source": [
    "metrics = evaluate_sarima_model(train, test, train_predictions, test_predictions,1)\n",
    "print(metrics)"
   ]
  },
  {
   "cell_type": "code",
   "execution_count": null,
   "id": "7e6cd818-49f6-4525-80a9-7016aafeb2f5",
   "metadata": {},
   "outputs": [],
   "source": [
    "size = len(df)- 7\n",
    "train = df['total_house_usage_log'][:size]\n",
    "test = df['total_house_usage_log'][size:]\n",
    "print (test.shape)\n",
    "\n",
    "# Define the best SARIMA parameters obtained from the grid search using AIC\n",
    "best_order = (2, 0, 1)  # Replace p_best, d_best, q_best with the best values\n",
    "best_seasonal_order = (2, 0, 1, 7)  # Replace P_best, D_best, Q_best, m_best with the best values\n",
    "\n",
    "best_order =  (2, 0, 1)  # Replace p_best, d_best, q_best with the best values\n",
    "best_seasonal_order = (2, 0, 1, 7)  # Replace P_best, D_best, Q_best, m_best with the best values\n",
    "\n",
    "best_order = (2, 0, 1)  # Replace p_best, d_best, q_best with the best values\n",
    "best_seasonal_order =  (2, 0, 1, 7) # Replace P_best, D_best, Q_best, m_best with the best values\n",
    "\n",
    "# Build the final SARIMA model with the best parameters\n",
    "sarima_model = sm.tsa.SARIMAX(train, order=best_order, seasonal_order=best_seasonal_order)\n",
    "sarima_results = sarima_model.fit()\n",
    "\n",
    "# Make predictions for both training and testing datasets\n",
    "train_predictions = sarima_results.predict(start=0, end=len(train) - 1, dynamic=False)\n",
    "test_predictions = sarima_results.predict(start=len(train), end=len(train) + len(test) - 1, dynamic=False)\n"
   ]
  },
  {
   "cell_type": "code",
   "execution_count": null,
   "id": "cbc32dc1-9b46-47f8-b8bb-9a1f32e61306",
   "metadata": {},
   "outputs": [],
   "source": [
    "metrics = evaluate_sarima_model(train, test, train_predictions, test_predictions,1)\n",
    "print(metrics)"
   ]
  },
  {
   "cell_type": "code",
   "execution_count": null,
   "id": "316f2f4f-7292-4acc-8c34-14a695e9c5aa",
   "metadata": {},
   "outputs": [],
   "source": []
  },
  {
   "cell_type": "code",
   "execution_count": null,
   "id": "8c59db9e-722a-4519-a3a6-e85220a1301b",
   "metadata": {},
   "outputs": [],
   "source": []
  },
  {
   "cell_type": "code",
   "execution_count": null,
   "id": "8fff339d-395e-44fe-9d79-f80c1b3d2da8",
   "metadata": {},
   "outputs": [],
   "source": []
  },
  {
   "cell_type": "code",
   "execution_count": null,
   "id": "78cd9487-0cae-4709-a0bb-65fbc1aa9684",
   "metadata": {},
   "outputs": [],
   "source": [
    "# Plot actual vs. forecasted values for both training and testing datasets\n",
    "plt.figure(figsize=(12, 6))\n",
    "plt.plot(train.index[1:], train[1:], label='Actual (Train)')\n",
    "plt.plot(train.index[1:], train_predictions, label='Forecasted (Train)')\n",
    "plt.plot(test.index, test, label='Actual (Test)')\n",
    "plt.plot(test.index, test_predictions, label='Forecasted (Test)')\n",
    "plt.legend()\n",
    "plt.title('SARIMA Model - Actual vs. Forecasted')\n",
    "plt.xlabel('Date')\n",
    "plt.ylabel('Energy Consumption')\n",
    "plt.show()\n",
    "\n",
    "# Calculate evaluation metrics for both training and testing datasets\n",
    "train_mae = mean_absolute_error(train[1:], train_predictions)\n",
    "test_mae = mean_absolute_error(test, test_predictions)\n",
    "\n",
    "train_mape = np.mean(np.abs((train[1:] - train_predictions) / train)) * 100\n",
    "test_mape = np.mean(np.abs((test - test_predictions) / test)) * 100\n",
    "\n",
    "train_mase = train_mae / (np.mean(np.abs(np.diff(train[1:]))) + np.finfo(float).eps)\n",
    "test_mase = test_mae / (np.mean(np.abs(np.diff(test))) + np.finfo(float).eps)\n",
    "\n",
    "train_r2 = r2_score(train[1:], train_predictions)\n",
    "test_r2 = r2_score(test, test_predictions)\n",
    "\n",
    "train_rmse = np.sqrt(mean_squared_error(train[1:], train_predictions))\n",
    "test_rmse = np.sqrt(mean_squared_error(test, test_predictions))\n",
    "\n",
    "# Create a DataFrame to display the metrics\n",
    "metrics_df = pd.DataFrame({\n",
    "    'Dataset': ['Train', 'Test'],\n",
    "    'MAE': [train_mae, test_mae],\n",
    "    'MAPE (%)': [train_mape, test_mape],\n",
    "    'MASE': [train_mase, test_mase],\n",
    "    'R-squared': [train_r2, test_r2],\n",
    "    'RMSE': [train_rmse, test_rmse]\n",
    "})\n",
    "\n",
    "print(metrics_df)\n"
   ]
  },
  {
   "cell_type": "code",
   "execution_count": null,
   "id": "12ecc163-af63-450b-a748-eae751d8d17a",
   "metadata": {},
   "outputs": [],
   "source": [
    "# Define your SARIMA upper and lower limits with 95% confidence\n",
    "sarima_upper_limit = X['sarima_upper_limit']  # Upper limit value from SARIMA\n",
    "sarima_lower_limit = X['sarima_lower_limit']  # Lower limit value from SARIMA\n",
    "\n",
    "def calculate_weighted_metric(y_true, sarima_preds, rf_preds, sarima_upper_limit, sarima_lower_limit, weights, metric):\n",
    "    # Apply upper and lower limits to SARIMA predictions\n",
    "    # sarima_preds = np.maximum(np.minimum(sarima_preds, sarima_upper_limit), sarima_lower_limit)\n",
    "    \n",
    "    # Calculate the weighted average predictions\n",
    "    combined_preds = (weights[0] * sarima_preds) + (weights[1] * rf_preds)\n",
    "    \n",
    "    if metric == 'rmse':\n",
    "        result = sqrt(mean_squared_error(y_true, combined_preds))\n",
    "    elif metric == 'mae':\n",
    "        result = np.mean(np.abs(y_true - combined_preds))\n",
    "    elif metric == 'mape':\n",
    "        result = np.mean(np.abs((y_true - combined_preds) / y_true)) * 100\n",
    "    elif metric == 'r2':\n",
    "        correlation_matrix = np.corrcoef(y_true, combined_preds)\n",
    "        result = correlation_matrix[0, 1] ** 2\n",
    "    else:\n",
    "        raise ValueError(\"Invalid metric. Choose from 'rmse', 'mae', 'mape', or 'r2'.\")\n",
    "    \n",
    "    return result\n",
    "\n",
    "# Define the grid search parameters\n",
    "param_grid = {\n",
    "    'weight_sarima': np.linspace(0, 1, 11),  # Weights for SARIMA (0 to 1 in 0.1 increments)\n",
    "    'weight_rf': np.linspace(0, 1, 11)       # Weights for RandomForest (0 to 1 in 0.1 increments)\n",
    "}\n",
    "\n",
    "metric_to_optimize = 'rmse'\n",
    "\n",
    "best_weights = (0, 1)\n",
    "if metric_to_optimize == 'r2':\n",
    "    best_metric_value= 0\n",
    "else:    \n",
    "    best_metric_value = np.inf\n",
    "\n",
    "\n",
    "# Perform grid search using TimeSeriesSplit for cross-validation\n",
    "# tscv = TimeSeriesSplit(n_splits=2)  # You can adjust the number of splits as needed\n",
    "\n",
    "for weight_sarima in param_grid['weight_sarima']:\n",
    "    for weight_rf in param_grid['weight_rf']:\n",
    "        weights = (weight_sarima, weight_rf)\n",
    "        \n",
    "        # Extract the SARIMA and RandomForestRegressor predictions for the current weights\n",
    "        sarima_preds = X['sarima_predictions'].values  # Replace 'sarima_column_name' with the actual column name\n",
    "        rf_preds = X['rf_predictions'].values  # Replace 'rf_column_name' with the actual column name\n",
    "        \n",
    "        # Extract the true target values\n",
    "        y_true = X['actual']  # Replace with your true target values\n",
    "        \n",
    "        # Calculate the MAE for the current combination of weights\n",
    "        current_metric = calculate_weighted_metric(y_true, sarima_preds, rf_preds, sarima_upper_limit, sarima_lower_limit, weights, metric_to_optimize)\n",
    "        # print (current_metric)\n",
    "        if metric_to_optimize in ['rmse', 'mae', 'mape']:\n",
    "            if current_metric < best_metric_value:\n",
    "                best_metric_value = current_metric\n",
    "                best_weights = weights\n",
    "        elif metric_to_optimize == 'r2':\n",
    "            if current_metric > best_metric_value and current_metric != np.inf:\n",
    "                best_metric_value = current_metric\n",
    "                best_weights = weights\n",
    "\n",
    "print(f\"Optimal weights (SARIMA, RandomForest): {best_weights}\")\n",
    "print(f\"Optimal {metric_to_optimize}: {best_metric_value}\")\n"
   ]
  },
  {
   "cell_type": "code",
   "execution_count": null,
   "id": "4d24e985-64ff-4327-b3c9-db78e756bb0c",
   "metadata": {},
   "outputs": [],
   "source": []
  }
 ],
 "metadata": {
  "kernelspec": {
   "display_name": "Python 3 (ipykernel)",
   "language": "python",
   "name": "python3"
  },
  "language_info": {
   "codemirror_mode": {
    "name": "ipython",
    "version": 3
   },
   "file_extension": ".py",
   "mimetype": "text/x-python",
   "name": "python",
   "nbconvert_exporter": "python",
   "pygments_lexer": "ipython3",
   "version": "3.9.18"
  }
 },
 "nbformat": 4,
 "nbformat_minor": 5
}
